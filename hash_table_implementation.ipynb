{
 "cells": [
  {
   "cell_type": "code",
   "execution_count": 5,
   "metadata": {
    "collapsed": true
   },
   "outputs": [],
   "source": [
    "import sympy"
   ]
  },
  {
   "cell_type": "code",
   "execution_count": 44,
   "metadata": {},
   "outputs": [],
   "source": [
    "class hash_table: \n",
    "    def __init__(self, data):\n",
    "        self.hash_list = [None] * self.get_length_of_hash_list(data)\n",
    "        for x in data:\n",
    "            self.add_element(x)\n",
    "        \n",
    "    def add_element(self, x):\n",
    "        x_hash = self.hash_function(x)\n",
    "        if self.hash_list[x_hash % len(self.hash_list)] == None:  # empty slot\n",
    "            self.hash_list[x_hash % len(self.hash_list)] = x \n",
    "        elif self.hash_list[x_hash % len(self.hash_list)] == x:  # value already exists\n",
    "            self.hash_list[x_hash % len(self.hash_list)] = x\n",
    "        else:\n",
    "            i = 3 \n",
    "            while True:\n",
    "                if self.hash_list[(x_hash + i ) % len(self.hash_list)] == None:\n",
    "                    self.hash_list[(x_hash + i ) % len(self.hash_list)] = x \n",
    "                    break\n",
    "                else: \n",
    "                    i += 3 \n",
    "                if i >= (len(self.hash_list)*3):\n",
    "                    print('hash_list is full: '+ str(x) + ' was not inserted.')\n",
    "                    break   \n",
    "                    \n",
    "                    \n",
    "    def hash_function(self, x): \n",
    "        return x % len(self.hash_list)\n",
    "    \n",
    "    def get_length_of_hash_list(self, data):\n",
    "        # length is the next prime along from the power of 2 \n",
    "        len_list = 4\n",
    "        while len_list <= len(data):\n",
    "            len_list *= 2\n",
    "        len_list = sympy.nextprime(len_list)\n",
    "        return len_list"
   ]
  },
  {
   "cell_type": "code",
   "execution_count": 46,
   "metadata": {},
   "outputs": [],
   "source": [
    "h1 = hash_table([4,331,7,34,2,56,3])"
   ]
  },
  {
   "cell_type": "code",
   "execution_count": 47,
   "metadata": {},
   "outputs": [
    {
     "data": {
      "text/plain": [
       "[None, 331, 2, 3, 4, 56, None, 7, None, None, 34]"
      ]
     },
     "execution_count": 47,
     "metadata": {},
     "output_type": "execute_result"
    }
   ],
   "source": [
    "h1.hash_list"
   ]
  },
  {
   "cell_type": "code",
   "execution_count": 52,
   "metadata": {},
   "outputs": [
    {
     "name": "stdout",
     "output_type": "stream",
     "text": [
      "hash_list is full: 4433346 was not inserted.\n"
     ]
    }
   ],
   "source": [
    "h1.add_element(4433346)"
   ]
  },
  {
   "cell_type": "code",
   "execution_count": 53,
   "metadata": {},
   "outputs": [
    {
     "data": {
      "text/plain": [
       "[44346, 331, 2, 3, 4, 56, 446, 7, 4446, 443346, 34]"
      ]
     },
     "execution_count": 53,
     "metadata": {},
     "output_type": "execute_result"
    }
   ],
   "source": [
    "h1.hash_list"
   ]
  },
  {
   "cell_type": "code",
   "execution_count": null,
   "metadata": {
    "collapsed": true
   },
   "outputs": [],
   "source": []
  }
 ],
 "metadata": {
  "kernelspec": {
   "display_name": "Python 3",
   "language": "python",
   "name": "python3"
  },
  "language_info": {
   "codemirror_mode": {
    "name": "ipython",
    "version": 3
   },
   "file_extension": ".py",
   "mimetype": "text/x-python",
   "name": "python",
   "nbconvert_exporter": "python",
   "pygments_lexer": "ipython3",
   "version": "3.6.1"
  }
 },
 "nbformat": 4,
 "nbformat_minor": 2
}
