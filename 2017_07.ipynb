{
 "cells": [
  {
   "cell_type": "code",
   "execution_count": 376,
   "metadata": {
    "collapsed": true
   },
   "outputs": [],
   "source": [
    "import re \n",
    "import numpy as np\n",
    "from collections import defaultdict\n",
    "from collections import Counter\n",
    "%matplotlib inline\n",
    "from IPython.core.debugger import set_trace"
   ]
  },
  {
   "cell_type": "code",
   "execution_count": 209,
   "metadata": {},
   "outputs": [],
   "source": [
    "class Tree():\n",
    "    \"\"\"Implementation of a simple tree. \n",
    "       i.e. the stack is inverted\"\"\"\n",
    "    def __init__(self ): \n",
    "        self.nodes = {}\n",
    "        self.links = {}\n",
    "    \n",
    "    def add_node(self, name, weight):\n",
    "        self.nodes[name] = weight\n",
    "        \n",
    "    # we want to go from smallest to largest node, or top to bottom.\n",
    "    # so link a node to the node holding it up \n",
    "    def add_link(self, name_above, name_below):\n",
    "        self.links[name_above] = name_below\n",
    "        "
   ]
  },
  {
   "cell_type": "code",
   "execution_count": 314,
   "metadata": {},
   "outputs": [],
   "source": [
    "def create_tree(txt):\n",
    "    t = Tree()\n",
    "    \n",
    "    disc_name_string = '^(\\w+)'\n",
    "    disc_weight_string ='\\((\\d+)\\)'\n",
    "    \n",
    "    for line in txt: \n",
    "        disc_name = re.findall(disc_name_string, line)[0]\n",
    "        disc_weight = int(re.findall(disc_weight_string, line)[0])\n",
    "        # Put the node in tree\n",
    "        t.add_node(disc_name,  disc_weight)\n",
    "\n",
    "    # Add links on second pass \n",
    "    for line in txt: \n",
    "        disc_below = re.findall(disc_name_string, line)[0]\n",
    "        if line.find('->') != -1 :\n",
    "            _, disc_string_above = line.split(' -> ')\n",
    "            disc_name_above_list = disc_string_above.split(', ')\n",
    "\n",
    "            for disc_above in disc_name_above_list:\n",
    "                t.add_link(disc_above, disc_below)\n",
    "                \n",
    "    return t"
   ]
  },
  {
   "cell_type": "code",
   "execution_count": 317,
   "metadata": {},
   "outputs": [],
   "source": [
    "def find_bottom_program(t): \n",
    "    # If a node has no parent, it is the bottom program. \n",
    "    # We can start anywhere and go until we hit a program without a parent \n",
    "    current_node = list(t.nodes.keys())[0]\n",
    "    \n",
    "    flag = True\n",
    "    while flag:\n",
    "        try:\n",
    "            current_node = t.links[current_node]\n",
    "        except KeyError:\n",
    "            flag = False \n",
    "            return current_node\n",
    "    "
   ]
  },
  {
   "cell_type": "code",
   "execution_count": 322,
   "metadata": {},
   "outputs": [],
   "source": [
    "# Test input \n",
    "# One takeaway is to really try and structure programs so that they work on \n",
    "# different inputs easily. \n",
    "txt = [x.strip('\\n') for x in open('input_2017_07_test.txt').readlines()]\n",
    "t = create_tree(txt)\n",
    "bottom_program = find_bottom_program(t)\n",
    "assert bottom_program == 'tknk'"
   ]
  },
  {
   "cell_type": "code",
   "execution_count": 323,
   "metadata": {},
   "outputs": [
    {
     "name": "stdout",
     "output_type": "stream",
     "text": [
      "svugo\n"
     ]
    }
   ],
   "source": [
    "txt = [x.strip('\\n') for x in open('input_2017_07.txt').readlines()]\n",
    "t = create_tree(txt)\n",
    "bottom_program = find_bottom_program(t)\n",
    "print(bottom_program)"
   ]
  },
  {
   "cell_type": "markdown",
   "metadata": {
    "collapsed": true
   },
   "source": [
    "## Part 2 "
   ]
  },
  {
   "cell_type": "markdown",
   "metadata": {},
   "source": [
    "This is harder...i have my links going from high to low, stored in a dict. This task I need to search from low to high, so I need the links the other way around. \n",
    "\n",
    "First thought is to just reverse the links...but this can't really be done in dict form, since we will have duplicate keys. We can have a dict linking to arrays? Or have a two dimensional list, or a numpy version. \n",
    "\n",
    "I like the dict version linking to arrays. Let's do that. "
   ]
  },
  {
   "cell_type": "code",
   "execution_count": 326,
   "metadata": {
    "collapsed": true
   },
   "outputs": [],
   "source": [
    "def reverse_links(t):\n",
    "    # Set up dict, with a list with every empty value \n",
    "    links_below_above = defaultdict(list)\n",
    "\n",
    "    for disc_above, disc_below in t.links.items():\n",
    "        links_below_above[disc_below].append(disc_above)\n",
    "    return links_below_above"
   ]
  },
  {
   "cell_type": "markdown",
   "metadata": {},
   "source": [
    "Now we can go up the tree and calculate the weight at each bit"
   ]
  },
  {
   "cell_type": "code",
   "execution_count": 295,
   "metadata": {},
   "outputs": [],
   "source": [
    "node_cumulative_weight = defaultdict(lambda: 0)"
   ]
  },
  {
   "cell_type": "code",
   "execution_count": 371,
   "metadata": {},
   "outputs": [],
   "source": [
    "def find_weight(t, node_name): \n",
    "    global indent_level\n",
    "    #set_trace()\n",
    "    # case where we have a program on the top   \n",
    "    # if you're at the top, just return your weight (you have nothing above you)\n",
    "    #print (\"\".join([\" \" for i in range(indent_level)]) + node_name)\n",
    "    if links_below_above[node_name] == []:  \n",
    "        node_cumulative_weight[node_name] = t.nodes[node_name]\n",
    "        return t.nodes[node_name]\n",
    "    # if the node has ones above, we need to get weight of the nodes \n",
    "    else:\n",
    "        node_sum = t.nodes[node_name]\n",
    "        for node_above in links_below_above[node_name]:\n",
    "            # the case where we already computed the weight \n",
    "            if node_cumulative_weight[node_above] != 0: \n",
    "                node_sum +=  node_cumulative_weight[node_above]\n",
    "            # we haven't computed the weight; do so \n",
    "            else: \n",
    "                indent_level +=1 \n",
    "                node_sum += find_weight(t, node_above)\n",
    "        node_cumulative_weight[node_name] = node_sum\n",
    "        indent_level -= 1\n",
    "        return node_sum"
   ]
  },
  {
   "cell_type": "code",
   "execution_count": 427,
   "metadata": {
    "collapsed": true
   },
   "outputs": [],
   "source": [
    "def find_unbalanced_programs(t, node_name):\n",
    "    # start at root. \n",
    "    # keep going down while unbalanced \n",
    "    # if nodes above are balanced, it's the node itself that is the problem\n",
    "    # then look at the nodes below that node to find what it should be \n",
    "    global indent_level\n",
    "    nodes_above_weight = [node_cumulative_weight[node_name] \n",
    "                          for node_name in links_below_above[node_name]]\n",
    "    \n",
    "    # find the different one \n",
    "    c = Counter(nodes_above_weight)\n",
    "    most_common_value = c.most_common(1)[0][0]\n",
    "    \n",
    "    # case where all values are the same \n",
    "    # this is the broken node\n",
    "    if c.most_common(1)[0][1] == len(nodes_above_weight): \n",
    "        print (node_name)\n",
    "        # we want to find the level below to see what its weight should be \n",
    "        below_node = t.links[node_name]\n",
    "        # find weights of the parallel \n",
    "        nodes_above_weight_below = [node_cumulative_weight[node_name] \n",
    "                          for node_name in links_below_above[below_node]]\n",
    "        c = Counter(nodes_above_weight_below)\n",
    "        most_common_value_below = c.most_common(1)[0][0]\n",
    "        different_index = ([i for i, x in enumerate(nodes_above_weight_below) \n",
    "                        if x!=most_common_value_below ])[0] \n",
    "        \n",
    "        # Case; stack is too light \n",
    "        node_diff = (max(nodes_above_weight_below) - min(nodes_above_weight_below))\n",
    "        #set_trace()\n",
    "        if max(nodes_above_weight_below) == most_common_value: \n",
    "            return (t.nodes[node_name] + node_diff)\n",
    "        else:       # Case; stack is too heavy \n",
    "            return (t.nodes[node_name] - node_diff)\n",
    "        \n",
    "    # case where one value is different \n",
    "    # we need to go down one level \n",
    "    # get the index of the different value \n",
    "    different_index = ([i for i, x in enumerate(nodes_above_weight) \n",
    "                        if x!=most_common_value ])[0] \n",
    "    \n",
    "    name_above = links_below_above[node_name][different_index]\n",
    "    return find_unbalanced_programs(t, name_above)"
   ]
  },
  {
   "cell_type": "markdown",
   "metadata": {},
   "source": [
    "Let's try on the test input."
   ]
  },
  {
   "cell_type": "code",
   "execution_count": 428,
   "metadata": {},
   "outputs": [
    {
     "name": "stdout",
     "output_type": "stream",
     "text": [
      "ugml\n"
     ]
    },
    {
     "data": {
      "text/plain": [
       "60"
      ]
     },
     "execution_count": 428,
     "metadata": {},
     "output_type": "execute_result"
    }
   ],
   "source": [
    "txt = [x.strip('\\n') for x in open('input_2017_07_test.txt').readlines()]\n",
    "t = create_tree(txt)\n",
    "links_below_above = reverse_links(t)\n",
    "node_cumulative_weight = defaultdict(lambda: 0)\n",
    "indent_level = 0 \n",
    "# Use root, weights are stored in node_cumulative_weight\n",
    "find_weight(t, 'tknk')\n",
    "find_unbalanced_programs(t, 'tknk')"
   ]
  },
  {
   "cell_type": "markdown",
   "metadata": {},
   "source": [
    "Now the real one"
   ]
  },
  {
   "cell_type": "code",
   "execution_count": 429,
   "metadata": {},
   "outputs": [
    {
     "name": "stdout",
     "output_type": "stream",
     "text": [
      "sphbbz\n"
     ]
    },
    {
     "data": {
      "text/plain": [
       "1152"
      ]
     },
     "execution_count": 429,
     "metadata": {},
     "output_type": "execute_result"
    }
   ],
   "source": [
    "txt = [x.strip('\\n') for x in open('input_2017_07.txt').readlines()]\n",
    "t = create_tree(txt)\n",
    "links_below_above = reverse_links(t)\n",
    "node_cumulative_weight = defaultdict(lambda: 0)\n",
    "indent_level = 0 \n",
    "# Use root, weights are stored in node_cumulative_weight\n",
    "find_weight(t, 'svugo')\n",
    "find_unbalanced_programs(t, 'svugo')"
   ]
  },
  {
   "cell_type": "markdown",
   "metadata": {},
   "source": [
    "### Digraph approach (obsolete)"
   ]
  },
  {
   "cell_type": "code",
   "execution_count": 213,
   "metadata": {
    "collapsed": true
   },
   "outputs": [],
   "source": [
    "# # Digraph approach (replaced by custom tree)\n",
    "# G = nx.DiGraph()\n",
    "# # Add nodes on first pass, links on second pass \n",
    "# for line in txt: \n",
    "#     disc_name = re.findall(disc_name_string, line)[0]\n",
    "#     disc_weight = int(re.findall(disc_weight_string, line)[0])\n",
    "#     # Put the node in graph\n",
    "#     G.add_node(disc_name, {'weight': disc_weight})\n",
    "\n",
    "    \n",
    "# # Add links on second pass \n",
    "# for line in txt: \n",
    "#     disc_name = re.findall(disc_name_string, line)[0]\n",
    "#     if line.find('->') != -1 :\n",
    "#         _, disc_string_above = line.split(' -> ')\n",
    "#         disc_name_above_list = disc_string_above.split(', ')\n",
    "        \n",
    "#         for disc_above in disc_name_above_list:\n",
    "#             G.add_edge(disc_name, disc_above)"
   ]
  }
 ],
 "metadata": {
  "kernelspec": {
   "display_name": "Python 3",
   "language": "python",
   "name": "python3"
  },
  "language_info": {
   "codemirror_mode": {
    "name": "ipython",
    "version": 3
   },
   "file_extension": ".py",
   "mimetype": "text/x-python",
   "name": "python",
   "nbconvert_exporter": "python",
   "pygments_lexer": "ipython3",
   "version": "3.6.1"
  }
 },
 "nbformat": 4,
 "nbformat_minor": 2
}
