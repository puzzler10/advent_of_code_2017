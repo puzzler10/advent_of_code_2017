{
 "cells": [
  {
   "cell_type": "code",
   "execution_count": 64,
   "metadata": {
    "collapsed": true
   },
   "outputs": [],
   "source": [
    "from typing import List\n",
    "import numpy as np"
   ]
  },
  {
   "cell_type": "code",
   "execution_count": 77,
   "metadata": {
    "collapsed": true
   },
   "outputs": [],
   "source": [
    "f = open('input_2017_06.txt')\n",
    "txt = f.read().strip('\\n').split('\\t')\n",
    "arr = [int(x) for x in txt]"
   ]
  },
  {
   "cell_type": "code",
   "execution_count": 62,
   "metadata": {},
   "outputs": [],
   "source": [
    "def reallocate_block(ind: int, arr: List[int]) -> List[int]:\n",
    "    block_value = arr[ind]\n",
    "    arr[ind] = 0 \n",
    "    counter = 1\n",
    "    for i in range(block_value):\n",
    "        arr[(ind + counter) % len(arr) ] += 1 \n",
    "        counter += 1\n",
    "    return arr"
   ]
  },
  {
   "cell_type": "code",
   "execution_count": 78,
   "metadata": {},
   "outputs": [],
   "source": [
    "def cycle_blocks(arr: List[int]) -> int:\n",
    "    result_set = set()\n",
    "    n_iter = 0 \n",
    "    while len(result_set) == n_iter:\n",
    "        arr = reallocate_block(np.argmax(arr), arr)\n",
    "        result_set.add(','.join([str(x) for x in arr]))\n",
    "        n_iter +=1 \n",
    "\n",
    "    return n_iter"
   ]
  },
  {
   "cell_type": "code",
   "execution_count": 80,
   "metadata": {
    "collapsed": true
   },
   "outputs": [],
   "source": [
    "assert cycle_blocks([0,2,7,0]) == 5"
   ]
  },
  {
   "cell_type": "code",
   "execution_count": 79,
   "metadata": {},
   "outputs": [
    {
     "data": {
      "text/plain": [
       "7864"
      ]
     },
     "execution_count": 79,
     "metadata": {},
     "output_type": "execute_result"
    }
   ],
   "source": [
    "cycle_blocks(arr)"
   ]
  },
  {
   "cell_type": "markdown",
   "metadata": {},
   "source": [
    "### Part 2 "
   ]
  },
  {
   "cell_type": "code",
   "execution_count": 97,
   "metadata": {
    "collapsed": true
   },
   "outputs": [],
   "source": [
    "f = open('input_2017_06.txt')\n",
    "txt = f.read().strip('\\n').split('\\t')\n",
    "arr = [int(x) for x in txt]"
   ]
  },
  {
   "cell_type": "code",
   "execution_count": 108,
   "metadata": {
    "collapsed": true
   },
   "outputs": [],
   "source": [
    "def cycle_blocks_track(arr: List[int]) -> int:\n",
    "    result_set = set()\n",
    "    dict_tracker = dict()\n",
    "    n_iter = 0\n",
    "    while len(result_set) == n_iter:\n",
    "        n_iter +=1 \n",
    "        arr = reallocate_block(np.argmax(arr), arr)\n",
    "        str_rep = ','.join([str(x) for x in arr])\n",
    "        if not str_rep in result_set:\n",
    "            dict_tracker[str_rep] = n_iter \n",
    "        result_set.add(str_rep)            \n",
    "\n",
    "    return n_iter - dict_tracker[str_rep] "
   ]
  },
  {
   "cell_type": "code",
   "execution_count": 112,
   "metadata": {},
   "outputs": [],
   "source": [
    "assert cycle_blocks_track([0,2,7,0]) == 4"
   ]
  },
  {
   "cell_type": "code",
   "execution_count": 113,
   "metadata": {},
   "outputs": [
    {
     "data": {
      "text/plain": [
       "1695"
      ]
     },
     "execution_count": 113,
     "metadata": {},
     "output_type": "execute_result"
    }
   ],
   "source": [
    "cycle_blocks_track(arr)"
   ]
  },
  {
   "cell_type": "code",
   "execution_count": null,
   "metadata": {
    "collapsed": true
   },
   "outputs": [],
   "source": []
  }
 ],
 "metadata": {
  "kernelspec": {
   "display_name": "Python 3",
   "language": "python",
   "name": "python3"
  },
  "language_info": {
   "codemirror_mode": {
    "name": "ipython",
    "version": 3
   },
   "file_extension": ".py",
   "mimetype": "text/x-python",
   "name": "python",
   "nbconvert_exporter": "python",
   "pygments_lexer": "ipython3",
   "version": "3.6.1"
  }
 },
 "nbformat": 4,
 "nbformat_minor": 2
}
