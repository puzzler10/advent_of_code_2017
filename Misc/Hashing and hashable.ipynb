{
 "cells": [
  {
   "cell_type": "markdown",
   "metadata": {},
   "source": [
    "* Hashable objects are immutable, meaning that they cannot change. Examples of things that cannot change are tuples, strings, floats, ints, complex, frozensets... and examples of things that can change are lists, dicts, sets and classes that you make yourself. The stuff that you can change is not hashable. "
   ]
  },
  {
   "cell_type": "markdown",
   "metadata": {},
   "source": [
    "#### Hashing"
   ]
  },
  {
   "cell_type": "markdown",
   "metadata": {},
   "source": [
    "Hashing is where you change data from a format which you can read and know about (e.g. 1234, 'Shane Rint', 'password1234') to a format where you can't tell anything about it, called a hash (e.g. the above examples become x441f1, %ml)9J, 9xj4p1). Note how the hashes obscure the length of the data: you don't know how long it is. "
   ]
  },
  {
   "cell_type": "code",
   "execution_count": 1,
   "metadata": {
    "collapsed": true
   },
   "outputs": [],
   "source": [
    "from functools import partial"
   ]
  },
  {
   "cell_type": "code",
   "execution_count": 7,
   "metadata": {},
   "outputs": [
    {
     "data": {
      "text/plain": [
       "[{45},\n",
       " None,\n",
       " None,\n",
       " {3},\n",
       " None,\n",
       " None,\n",
       " None,\n",
       " {82},\n",
       " {38},\n",
       " None,\n",
       " {100, 490},\n",
       " {791},\n",
       " None,\n",
       " None,\n",
       " None]"
      ]
     },
     "execution_count": 7,
     "metadata": {},
     "output_type": "execute_result"
    }
   ],
   "source": [
    "# A simple hash table \n",
    "values = [100, 45, 38, 791, 490, 3, 82]\n",
    "hash_table = [None for i in range(15)]\n",
    "\n",
    "# The hash function is simple: hash_value = value modulo len(hash_table)\n",
    "def hash_function_mod(value, mod):\n",
    "    return value % mod\n",
    "\n",
    "# Do this so that we can use it with map\n",
    "hash_function_for_hash_table = partial(hash_function_mod, mod = len(hash_table))\n",
    "\n",
    "# Compute the hash table \n",
    "hash_values = list(map(hash_function_for_hash_table, values))\n",
    "\n",
    "# Add the values to the hash table\n",
    "# Note that since there are duplicate hashes, we can have two values for a hash. \n",
    "for ind, val in enumerate(hash_values): \n",
    "    if hash_table[val] == None: \n",
    "        hash_table[val] = set({values[ind]})\n",
    "    else: \n",
    "        hash_table[val].add(values[ind])\n",
    "        \n",
    "hash_table"
   ]
  },
  {
   "cell_type": "markdown",
   "metadata": {},
   "source": [
    "Let's say we wanted to search for the number 100. How do we do that?"
   ]
  },
  {
   "cell_type": "code",
   "execution_count": 11,
   "metadata": {},
   "outputs": [
    {
     "data": {
      "text/plain": [
       "{100, 490}"
      ]
     },
     "execution_count": 11,
     "metadata": {},
     "output_type": "execute_result"
    }
   ],
   "source": [
    "number = 100 \n",
    "h1 =  hash_function_for_hash_table(100)\n",
    "hash_table[h1]"
   ]
  },
  {
   "cell_type": "markdown",
   "metadata": {},
   "source": [
    "Now we have to search through two elements, instead of 15. "
   ]
  },
  {
   "cell_type": "markdown",
   "metadata": {},
   "source": [
    "There are different methods to handling collisions. There is the method we employed here - where we stored things in sets. There are other methods where we have one element per slot. We can look down the list to find the next available one - "
   ]
  },
  {
   "cell_type": "code",
   "execution_count": 16,
   "metadata": {},
   "outputs": [
    {
     "data": {
      "text/plain": [
       "1"
      ]
     },
     "execution_count": 16,
     "metadata": {},
     "output_type": "execute_result"
    }
   ],
   "source": [
    "hash_function_15(16)"
   ]
  },
  {
   "cell_type": "code",
   "execution_count": 28,
   "metadata": {
    "collapsed": true
   },
   "outputs": [],
   "source": [
    "x = hash_table[2]"
   ]
  },
  {
   "cell_type": "code",
   "execution_count": 34,
   "metadata": {},
   "outputs": [
    {
     "data": {
      "text/plain": [
       "[45,\n",
       " None,\n",
       " {3, 10},\n",
       " 3,\n",
       " None,\n",
       " None,\n",
       " None,\n",
       " 82,\n",
       " 38,\n",
       " None,\n",
       " 490,\n",
       " 791,\n",
       " None,\n",
       " None,\n",
       " None]"
      ]
     },
     "execution_count": 34,
     "metadata": {},
     "output_type": "execute_result"
    }
   ],
   "source": [
    " hash_table"
   ]
  },
  {
   "cell_type": "code",
   "execution_count": null,
   "metadata": {
    "collapsed": true
   },
   "outputs": [],
   "source": [
    "# make a function that adds 10 to the previous number"
   ]
  },
  {
   "cell_type": "code",
   "execution_count": 24,
   "metadata": {},
   "outputs": [],
   "source": [
    "def add_10(x):\n",
    "    if x % 2 == 0: \n",
    "        x += 10\n",
    "    else:\n",
    "        x -=10\n",
    "    return x "
   ]
  },
  {
   "cell_type": "markdown",
   "metadata": {},
   "source": [
    "## Hashable"
   ]
  },
  {
   "cell_type": "markdown",
   "metadata": {},
   "source": [
    "- immutable = hashable, mutable = not hashable\n",
    "- when something is immutable, we mean that it cannot change. This means that its hash value cannot change either. "
   ]
  },
  {
   "cell_type": "code",
   "execution_count": 27,
   "metadata": {
    "collapsed": true
   },
   "outputs": [],
   "source": [
    "l1 = [1,2,3]  # mutable, not hashable \n",
    "t1 = (1,2,3)  # immutable, hashable"
   ]
  },
  {
   "cell_type": "code",
   "execution_count": 34,
   "metadata": {},
   "outputs": [
    {
     "ename": "ValueError",
     "evalue": "dictionary update sequence element #0 has length 3; 2 is required",
     "output_type": "error",
     "traceback": [
      "\u001b[0;31m---------------------------------------------------------------------------\u001b[0m",
      "\u001b[0;31mValueError\u001b[0m                                Traceback (most recent call last)",
      "\u001b[0;32m<ipython-input-34-9ab3b587a118>\u001b[0m in \u001b[0;36m<module>\u001b[0;34m()\u001b[0m\n\u001b[1;32m      1\u001b[0m \u001b[0;31m# d1 = {l1}  # no luck\u001b[0m\u001b[0;34m\u001b[0m\u001b[0;34m\u001b[0m\u001b[0m\n\u001b[0;32m----> 2\u001b[0;31m \u001b[0md2\u001b[0m \u001b[0;34m=\u001b[0m \u001b[0mdict\u001b[0m\u001b[0;34m(\u001b[0m\u001b[0;34m{\u001b[0m\u001b[0mt1\u001b[0m\u001b[0;34m}\u001b[0m\u001b[0;34m)\u001b[0m\u001b[0;34m\u001b[0m\u001b[0m\n\u001b[0m",
      "\u001b[0;31mValueError\u001b[0m: dictionary update sequence element #0 has length 3; 2 is required"
     ]
    }
   ],
   "source": [
    "# d1 = {l1}  # no luck\n",
    "d2 = dict()"
   ]
  },
  {
   "cell_type": "code",
   "execution_count": 41,
   "metadata": {},
   "outputs": [],
   "source": [
    "?id "
   ]
  },
  {
   "cell_type": "code",
   "execution_count": null,
   "metadata": {
    "collapsed": true
   },
   "outputs": [],
   "source": []
  }
 ],
 "metadata": {
  "kernelspec": {
   "display_name": "Python 3",
   "language": "python",
   "name": "python3"
  },
  "language_info": {
   "codemirror_mode": {
    "name": "ipython",
    "version": 3
   },
   "file_extension": ".py",
   "mimetype": "text/x-python",
   "name": "python",
   "nbconvert_exporter": "python",
   "pygments_lexer": "ipython3",
   "version": "3.6.1"
  }
 },
 "nbformat": 4,
 "nbformat_minor": 2
}
