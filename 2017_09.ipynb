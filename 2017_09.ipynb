{
 "cells": [
  {
   "cell_type": "code",
   "execution_count": 126,
   "metadata": {
    "collapsed": true
   },
   "outputs": [],
   "source": [
    "txt = open('input_2017_09.txt').read().strip()"
   ]
  },
  {
   "cell_type": "code",
   "execution_count": 131,
   "metadata": {
    "collapsed": true
   },
   "outputs": [],
   "source": [
    "# returns the 'score' of each character\n",
    "def evaluate_character(char, prev_char): \n",
    "    global nested_level\n",
    "    global in_garbage\n",
    "    # a ! will void whatever we have now\n",
    "    # but a !! will void the previous ! mark \n",
    "    if prev_char != '!':  \n",
    "        # Garbage rules: \n",
    "        if in_garbage: \n",
    "            if char == '>': \n",
    "                in_garbage = False\n",
    "        else:  # not in garbage\n",
    "            if char == '<': \n",
    "                in_garbage = True\n",
    "            elif char == '{': \n",
    "                nested_level += 1\n",
    "                return nested_level\n",
    "            elif char == '}' and nested_level > 0: \n",
    "                nested_level -= 1\n",
    "    return 0 "
   ]
  },
  {
   "cell_type": "code",
   "execution_count": 132,
   "metadata": {
    "collapsed": true
   },
   "outputs": [],
   "source": [
    "def replace_escape_characters(txt):\n",
    "    # Rules:\n",
    "    # Any even number of ! can be deleted (we don't care about !)\n",
    "    # Any odd number of ! can be replaced by one ! \n",
    "    for n_marks in range(100, 1, -1):\n",
    "        mark_string = ''.join(['!' for i in range(n_marks)])\n",
    "        if n_marks % 2 == 0:\n",
    "            txt = txt.replace(mark_string, '')\n",
    "        else:\n",
    "            txt = txt.replace(mark_string, '!')\n",
    "    return txt"
   ]
  },
  {
   "cell_type": "code",
   "execution_count": 133,
   "metadata": {
    "collapsed": true
   },
   "outputs": [],
   "source": [
    "def find_total_score(txt): \n",
    "    global in_garbage\n",
    "    global nested_level\n",
    "    in_garbage = False\n",
    "    nested_level = 0 \n",
    "    score = 0 \n",
    "    txt = replace_escape_characters(txt)\n",
    "    # evaluate the first two characters, it's not counted in the loop\n",
    "    score += evaluate_character(txt[0], '') \n",
    "    score += evaluate_character(txt[1], txt[0]) \n",
    "\n",
    "    for i in range(2,len(txt)): \n",
    "        score += evaluate_character(txt[i], txt[i-1])\n",
    "    return score "
   ]
  },
  {
   "cell_type": "code",
   "execution_count": 134,
   "metadata": {
    "collapsed": true
   },
   "outputs": [],
   "source": [
    "assert find_total_score('{}') == 1\n",
    "assert find_total_score('{{{}}}') == 6\n",
    "assert find_total_score('{{},{}}') == 5\n",
    "assert find_total_score('{{{},{},{{}}}}') == 16.\n",
    "assert find_total_score('{<a>,<a>,<a>,<a>}') == 1\n",
    "assert find_total_score('{{<ab>},{<ab>},{<ab>},{<ab>}}') == 9\n",
    "assert find_total_score('{{<!!>},{<!!>},{<!!>},{<!!>}}') == 9\n",
    "assert find_total_score('{{<a!>},{<a!>},{<a!>},{<ab>}}') == 3"
   ]
  },
  {
   "cell_type": "code",
   "execution_count": 135,
   "metadata": {},
   "outputs": [
    {
     "data": {
      "text/plain": [
       "14212"
      ]
     },
     "execution_count": 135,
     "metadata": {},
     "output_type": "execute_result"
    }
   ],
   "source": [
    "find_total_score(txt)"
   ]
  },
  {
   "cell_type": "markdown",
   "metadata": {},
   "source": [
    "## Part 2 "
   ]
  },
  {
   "cell_type": "code",
   "execution_count": null,
   "metadata": {
    "collapsed": true
   },
   "outputs": [],
   "source": []
  },
  {
   "cell_type": "code",
   "execution_count": 138,
   "metadata": {
    "collapsed": true
   },
   "outputs": [],
   "source": [
    "# returns the 'score' of each character\n",
    "def count_garbage_characters(char, prev_char): \n",
    "    global nested_level\n",
    "    global in_garbage\n",
    "    # a ! will void whatever we have now\n",
    "    # but a !! will void the previous ! mark \n",
    "    if prev_char != '!' and char != '!':  \n",
    "        # We score points in garbage, not otherwise \n",
    "        if in_garbage: \n",
    "            if char == '>': \n",
    "                in_garbage = False\n",
    "            else: \n",
    "                return 1 \n",
    "        else:  # not in garbage\n",
    "            if char == '<': \n",
    "                in_garbage = True\n",
    "    return 0 "
   ]
  },
  {
   "cell_type": "code",
   "execution_count": 139,
   "metadata": {
    "collapsed": true
   },
   "outputs": [],
   "source": [
    "def find_total_garbage_characters(txt): \n",
    "    global in_garbage\n",
    "    in_garbage = False\n",
    "    score = 0 \n",
    "    txt = replace_escape_characters(txt)\n",
    "    # evaluate the first two characters, it's not counted in the loop\n",
    "    score += count_garbage_characters(txt[0], '') \n",
    "    for i in range(1,len(txt)): \n",
    "        score += count_garbage_characters(txt[i], txt[i-1])\n",
    "    return score "
   ]
  },
  {
   "cell_type": "code",
   "execution_count": 141,
   "metadata": {
    "collapsed": true
   },
   "outputs": [],
   "source": [
    "assert find_total_garbage_characters('<>') == 0 \n",
    "assert find_total_garbage_characters('<random characters>') == 17 \n",
    "assert find_total_garbage_characters('<<<<>') == 3 \n",
    "assert find_total_garbage_characters('<{!>}>') == 2 \n",
    "assert find_total_garbage_characters('<!!>') == 0 \n",
    "assert find_total_garbage_characters('<!!!>>') == 0 \n",
    "assert find_total_garbage_characters('<{o\"i!a,<{i<a>') == 10 "
   ]
  },
  {
   "cell_type": "code",
   "execution_count": 142,
   "metadata": {
    "scrolled": true
   },
   "outputs": [
    {
     "data": {
      "text/plain": [
       "6569"
      ]
     },
     "execution_count": 142,
     "metadata": {},
     "output_type": "execute_result"
    }
   ],
   "source": [
    "txt = open('input_2017_09.txt').read().strip()\n",
    "find_total_garbage_characters(txt)"
   ]
  },
  {
   "cell_type": "markdown",
   "metadata": {},
   "source": [
    "### Other solutions"
   ]
  },
  {
   "cell_type": "markdown",
   "metadata": {},
   "source": [
    "Always amazed by how short the other solutions are. Things to learn: \n",
    "\n",
    "- Joel's solution uses a continue statement for starting the next loop iteration. This one instead uses elif's and elses. \n",
    "- Debugging this was a bit tricky...I need to have a look at some debugging techniques. There are probably some easy tricks out there that make your life easier. \n",
    "  - debugging is easier if you print out every variable (maybe with a name in front of each) so you can trace what is happening"
   ]
  },
  {
   "cell_type": "code",
   "execution_count": 151,
   "metadata": {},
   "outputs": [
    {
     "name": "stdout",
     "output_type": "stream",
     "text": [
      "14212\n",
      "6569\n"
     ]
    }
   ],
   "source": [
    "txt = open('input_2017_09.txt').read().strip()\n",
    "\n",
    "escape_char_flag = False\n",
    "in_garbage = False\n",
    "indent_level = 0\n",
    "garbage_char_count = 0 \n",
    "group_score = 0 \n",
    "\n",
    "for char in txt: \n",
    "    if escape_char_flag: # a ! before\n",
    "        escape_char_flag = False\n",
    "    elif char == '!': \n",
    "        escape_char_flag = True\n",
    "    elif in_garbage: \n",
    "        if char == '>': \n",
    "            in_garbage = False\n",
    "        else: \n",
    "            garbage_char_count += 1 \n",
    "    else: \n",
    "        if char == \"<\": \n",
    "            in_garbage = True\n",
    "        elif char == '{': \n",
    "            indent_level += 1 \n",
    "            group_score += indent_level\n",
    "        elif char == '}': \n",
    "            indent_level -= 1\n",
    "    #print(char, group_score)\n",
    "\n",
    "print (group_score)\n",
    "print(garbage_char_count)"
   ]
  },
  {
   "cell_type": "code",
   "execution_count": null,
   "metadata": {
    "collapsed": true
   },
   "outputs": [],
   "source": []
  },
  {
   "cell_type": "code",
   "execution_count": null,
   "metadata": {
    "collapsed": true
   },
   "outputs": [],
   "source": []
  },
  {
   "cell_type": "code",
   "execution_count": null,
   "metadata": {
    "collapsed": true
   },
   "outputs": [],
   "source": []
  },
  {
   "cell_type": "code",
   "execution_count": null,
   "metadata": {
    "collapsed": true
   },
   "outputs": [],
   "source": []
  },
  {
   "cell_type": "code",
   "execution_count": null,
   "metadata": {
    "collapsed": true
   },
   "outputs": [],
   "source": []
  },
  {
   "cell_type": "code",
   "execution_count": null,
   "metadata": {
    "collapsed": true
   },
   "outputs": [],
   "source": []
  },
  {
   "cell_type": "code",
   "execution_count": null,
   "metadata": {
    "collapsed": true
   },
   "outputs": [],
   "source": []
  },
  {
   "cell_type": "code",
   "execution_count": null,
   "metadata": {
    "collapsed": true
   },
   "outputs": [],
   "source": []
  },
  {
   "cell_type": "code",
   "execution_count": null,
   "metadata": {
    "collapsed": true
   },
   "outputs": [],
   "source": []
  },
  {
   "cell_type": "code",
   "execution_count": null,
   "metadata": {
    "collapsed": true
   },
   "outputs": [],
   "source": []
  },
  {
   "cell_type": "code",
   "execution_count": 143,
   "metadata": {},
   "outputs": [
    {
     "name": "stdout",
     "output_type": "stream",
     "text": [
      "14212\n",
      "6569\n"
     ]
    }
   ],
   "source": [
    "e = d = v = i = n = 0\n",
    "for c in open('input_2017_09.txt').read().strip():\n",
    "    if d:\n",
    "        d = 0\n",
    "    elif c == '!':\n",
    "        d = 1\n",
    "    elif n:\n",
    "        if c == '>':\n",
    "            n = 0\n",
    "        else:\n",
    "            i += 1\n",
    "    elif c == '{':\n",
    "        e += 1\n",
    "    elif c == '<':\n",
    "        n = 1\n",
    "    elif c == '}':\n",
    "        v += e\n",
    "        e -= 1\n",
    "\n",
    "print(v)\n",
    "print(i)"
   ]
  },
  {
   "cell_type": "code",
   "execution_count": null,
   "metadata": {
    "collapsed": true
   },
   "outputs": [],
   "source": []
  }
 ],
 "metadata": {
  "kernelspec": {
   "display_name": "Python 3",
   "language": "python",
   "name": "python3"
  },
  "language_info": {
   "codemirror_mode": {
    "name": "ipython",
    "version": 3
   },
   "file_extension": ".py",
   "mimetype": "text/x-python",
   "name": "python",
   "nbconvert_exporter": "python",
   "pygments_lexer": "ipython3",
   "version": "3.6.1"
  }
 },
 "nbformat": 4,
 "nbformat_minor": 2
}
