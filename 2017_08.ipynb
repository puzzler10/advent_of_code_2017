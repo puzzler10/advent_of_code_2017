{
 "cells": [
  {
   "cell_type": "markdown",
   "metadata": {},
   "source": [
    "Thoughts: \n",
    "* I like the use of the lookup, but it felt a bit long. Use shorter name lengths next time. It felt cleaner and more readable than just using the direct groups \n",
    "* The exception was useful when debugging. I think investing in debugging techniques would pay off."
   ]
  },
  {
   "cell_type": "code",
   "execution_count": 90,
   "metadata": {},
   "outputs": [],
   "source": [
    "import re\n",
    "from collections import defaultdict\n",
    "from IPython.core.debugger import set_trace"
   ]
  },
  {
   "cell_type": "code",
   "execution_count": 35,
   "metadata": {
    "collapsed": true
   },
   "outputs": [],
   "source": [
    "test = \"\"\"b inc 5 if a > 1\n",
    "a inc 1 if b < 5\n",
    "c dec -10 if a >= 1\n",
    "c inc -20 if c == 10\n",
    "\"\"\".splitlines()\n",
    "txt = [line.strip() for line in open('input_2017_08.txt')]"
   ]
  },
  {
   "cell_type": "code",
   "execution_count": 118,
   "metadata": {
    "collapsed": true
   },
   "outputs": [],
   "source": [
    "def parse_input(input_lines):\n",
    "    expression = '(\\w+) (\\w+) (-?\\d+) if (\\w+) (\\W+) (-?\\d+)'\n",
    "    groups = [re.match(expression, x).groups() for x in input_lines]\n",
    "    return groups"
   ]
  },
  {
   "cell_type": "code",
   "execution_count": 119,
   "metadata": {
    "code_folding": []
   },
   "outputs": [],
   "source": [
    "def find_values(groups): \n",
    "    values = defaultdict(lambda: 0)  # holds the value of each register\n",
    "    for line in groups:  \n",
    "        # not strictly needed, but useful for readability \n",
    "        lookup = {\n",
    "            'target':line[0],\n",
    "            'operator': line[1], \n",
    "            'operator_value': line[2], \n",
    "            'condition_target': line[3], \n",
    "            'condition_operator': line[4], \n",
    "            'condition_value': line[5]\n",
    "        }\n",
    "        # evaluate the condition \n",
    "        condition_string = str(values[lookup['condition_target']]) + \\\n",
    "            lookup['condition_operator'] + str(lookup['condition_value'])\n",
    "        if eval(condition_string): \n",
    "            if lookup['operator'] == 'inc':\n",
    "                values[lookup['target']] += int(lookup['operator_value'])\n",
    "            elif lookup['operator'] == 'dec':\n",
    "                values[lookup['target']] -= int(lookup['operator_value'])\n",
    "            else:\n",
    "                raise Exception('operator not inc or dec')\n",
    "    return values"
   ]
  },
  {
   "cell_type": "code",
   "execution_count": 120,
   "metadata": {},
   "outputs": [
    {
     "name": "stdout",
     "output_type": "stream",
     "text": [
      "1\n"
     ]
    }
   ],
   "source": [
    "groups = parse_input(test)\n",
    "values = find_values(groups)\n",
    "print(max(list(values.values())))"
   ]
  },
  {
   "cell_type": "code",
   "execution_count": 121,
   "metadata": {},
   "outputs": [
    {
     "name": "stdout",
     "output_type": "stream",
     "text": [
      "3089\n"
     ]
    }
   ],
   "source": [
    "groups = parse_input(txt)\n",
    "values = find_values(groups)\n",
    "print(max(list(values.values())))"
   ]
  },
  {
   "cell_type": "markdown",
   "metadata": {},
   "source": [
    "## Part 2 "
   ]
  },
  {
   "cell_type": "code",
   "execution_count": 123,
   "metadata": {},
   "outputs": [],
   "source": [
    "def find_values_pt2(groups): \n",
    "    values = defaultdict(lambda: 0)  # holds the value of each register\n",
    "    highest_value = 0 \n",
    "    for line in groups:  \n",
    "        # not stritly needed, but useful for readability \n",
    "        lookup = {\n",
    "            'target':line[0],\n",
    "            'operator': line[1], \n",
    "            'operator_value': line[2], \n",
    "            'condition_target': line[3], \n",
    "            'condition_operator': line[4], \n",
    "            'condition_value': line[5]\n",
    "        }\n",
    "        # evaluate the condition \n",
    "        condition_string = str(values[lookup['condition_target']]) + \\\n",
    "            lookup['condition_operator'] + str(lookup['condition_value'])\n",
    "        if eval(condition_string): \n",
    "            if lookup['operator'] == 'inc':\n",
    "                values[lookup['target']] += int(lookup['operator_value'])\n",
    "            elif lookup['operator'] == 'dec':\n",
    "                values[lookup['target']] -= int(lookup['operator_value'])\n",
    "            else:\n",
    "                raise Exception('operator not inc or dec')\n",
    "        \n",
    "        highest_value = max(highest_value, max(list(values.values())))\n",
    "    return (values, highest_value)"
   ]
  },
  {
   "cell_type": "code",
   "execution_count": 124,
   "metadata": {},
   "outputs": [
    {
     "name": "stdout",
     "output_type": "stream",
     "text": [
      "10\n"
     ]
    }
   ],
   "source": [
    "groups = parse_input(test)\n",
    "values, highest_value = find_values_pt2(groups)\n",
    "print(highest_value)"
   ]
  },
  {
   "cell_type": "code",
   "execution_count": 125,
   "metadata": {},
   "outputs": [
    {
     "name": "stdout",
     "output_type": "stream",
     "text": [
      "5391\n"
     ]
    }
   ],
   "source": [
    "groups = parse_input(txt)\n",
    "values, highest_value = find_values_pt2(groups)\n",
    "print(highest_value)"
   ]
  },
  {
   "cell_type": "markdown",
   "metadata": {},
   "source": [
    "## Other solutions "
   ]
  },
  {
   "cell_type": "markdown",
   "metadata": {},
   "source": [
    "* Looks like your use of regex was not necessary. A simple split could have done the job. I chose to use a regex when initially I was going down the `exec` route, but then didn't update my initial choice after abandoning that decision. \n",
    "* You can use `dict.get('a')` instead of `dict['a']` to avoid a KeyError exception\n",
    "* You can also use `dict.get('a', 'default_value')` to throw a default value if 'a' is not found\n",
    "* Integers have dunder methods for comparisons. You can use `ge` for greater than/equal to, `eq` for equal, `ne` for not equal etc "
   ]
  },
  {
   "cell_type": "code",
   "execution_count": 54,
   "metadata": {},
   "outputs": [],
   "source": [
    "txt = [x.strip().split() for x in open('input_2017_08.txt')]\n",
    "oper = {\n",
    "    '!=': 'ne', '==': 'eq', '>=': 'ge', '>': 'gt', '<=': 'le', '<': 'lt'\n",
    "}\n",
    "d = {}\n",
    "highest_value = 0 "
   ]
  },
  {
   "cell_type": "code",
   "execution_count": 55,
   "metadata": {},
   "outputs": [
    {
     "name": "stdout",
     "output_type": "stream",
     "text": [
      "3089\n",
      "5391\n"
     ]
    }
   ],
   "source": [
    "for line in txt: \n",
    "    if getattr(d.get(line[4], 0), \"__\" +  oper[line[5]] + \"__\")(int(line[6])): \n",
    "        d[line[0]] = d.get(line[0], 0) + int(line[2]) if line[1] == 'inc' else  d.get(line[0], 0) -  int(line[2])\n",
    "        highest_value = max(highest_value, max(d.values()))\n",
    "print (max(d.values()))\n",
    "print(highest_value)"
   ]
  },
  {
   "cell_type": "code",
   "execution_count": null,
   "metadata": {
    "collapsed": true
   },
   "outputs": [],
   "source": []
  }
 ],
 "metadata": {
  "kernelspec": {
   "display_name": "Python 3",
   "language": "python",
   "name": "python3"
  }
 },
 "nbformat": 4,
 "nbformat_minor": 2
}
