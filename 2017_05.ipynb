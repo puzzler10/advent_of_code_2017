{
 "cells": [
  {
   "cell_type": "code",
   "execution_count": 73,
   "metadata": {},
   "outputs": [],
   "source": [
    "f = open('input_2017_05.txt')\n",
    "txt = f.read().strip().split('\\n')\n",
    "txt = [int(x) for x in txt]"
   ]
  },
  {
   "cell_type": "code",
   "execution_count": 74,
   "metadata": {
    "collapsed": true
   },
   "outputs": [],
   "source": [
    "def jump(ind: int, txt: list) -> (int, list): \n",
    "    new_ind = txt[ind] + ind\n",
    "    txt[ind] += 1 \n",
    "    \n",
    "    return (new_ind, txt)"
   ]
  },
  {
   "cell_type": "code",
   "execution_count": 75,
   "metadata": {},
   "outputs": [
    {
     "name": "stdout",
     "output_type": "stream",
     "text": [
      "391540\n"
     ]
    }
   ],
   "source": [
    "n_jumps = 0\n",
    "ind = 0 \n",
    "while True: \n",
    "    try:\n",
    "        (ind, txt) = jump(ind, txt)\n",
    "        n_jumps +=1 \n",
    "    except IndexError:\n",
    "        print(n_jumps)\n",
    "        break"
   ]
  },
  {
   "cell_type": "code",
   "execution_count": 71,
   "metadata": {},
   "outputs": [
    {
     "name": "stdout",
     "output_type": "stream",
     "text": [
      "5\n"
     ]
    }
   ],
   "source": [
    "# Test case \n",
    "x = [0,3,0,1,-3]\n",
    "ind = 0 \n",
    "n_jumps = 0\n",
    "ind = 0 \n",
    "while True: \n",
    "    try:\n",
    "        (ind, x) = jump(ind, x)\n",
    "        n_jumps +=1 \n",
    "    except IndexError:\n",
    "        print(n_jumps)\n",
    "        break"
   ]
  },
  {
   "cell_type": "markdown",
   "metadata": {},
   "source": [
    "## Part 2 "
   ]
  },
  {
   "cell_type": "code",
   "execution_count": 86,
   "metadata": {},
   "outputs": [],
   "source": [
    "f = open('input_2017_05.txt')\n",
    "txt = f.read().strip().split('\\n')\n",
    "txt = [int(x) for x in txt]"
   ]
  },
  {
   "cell_type": "code",
   "execution_count": 87,
   "metadata": {
    "collapsed": true
   },
   "outputs": [],
   "source": [
    "def jump_pt2(ind: int, txt: list) -> (int, list): \n",
    "    new_ind = txt[ind] + ind\n",
    "    if txt[ind] >=3:\n",
    "        txt[ind] -=1 \n",
    "    else: \n",
    "        txt[ind] += 1 \n",
    "    \n",
    "    return (new_ind, txt)"
   ]
  },
  {
   "cell_type": "code",
   "execution_count": 83,
   "metadata": {},
   "outputs": [
    {
     "name": "stdout",
     "output_type": "stream",
     "text": [
      "10\n"
     ]
    }
   ],
   "source": [
    "# Test case \n",
    "x = [0,3,0,1,-3]\n",
    "ind = 0 \n",
    "n_jumps = 0\n",
    "while True: \n",
    "    try:\n",
    "        (ind, x) = jump_pt2(ind, x)\n",
    "        n_jumps +=1 \n",
    "    except IndexError:\n",
    "        print(n_jumps)\n",
    "        break"
   ]
  },
  {
   "cell_type": "code",
   "execution_count": 88,
   "metadata": {},
   "outputs": [
    {
     "name": "stdout",
     "output_type": "stream",
     "text": [
      "30513679\n"
     ]
    }
   ],
   "source": [
    "n_jumps = 0\n",
    "ind = 0 \n",
    "while True: \n",
    "    try:\n",
    "        (ind, txt) = jump_pt2(ind, txt)\n",
    "        n_jumps +=1 \n",
    "    except IndexError:\n",
    "        print(n_jumps)\n",
    "        break"
   ]
  },
  {
   "cell_type": "code",
   "execution_count": null,
   "metadata": {
    "collapsed": true
   },
   "outputs": [],
   "source": []
  }
 ],
 "metadata": {
  "kernelspec": {
   "display_name": "Python 3",
   "language": "python",
   "name": "python3"
  },
  "language_info": {
   "codemirror_mode": {
    "name": "ipython",
    "version": 3
   },
   "file_extension": ".py",
   "mimetype": "text/x-python",
   "name": "python",
   "nbconvert_exporter": "python",
   "pygments_lexer": "ipython3",
   "version": "3.6.1"
  }
 },
 "nbformat": 4,
 "nbformat_minor": 2
}
