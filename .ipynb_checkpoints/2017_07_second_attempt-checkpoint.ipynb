{
 "cells": [
  {
   "cell_type": "markdown",
   "metadata": {},
   "source": [
    "Things learnt:\n",
    "- you don't have to specify '\\n' in strip. you can leave it blank to remove whitespace in general\n",
    "- capture groups in a regex can be nested. use re.match().groups() to access the groups as tuples\n",
    "- you can iterate through the keys of a dict by doing `[x for x in d]`, same as `[x for x in d.keys()`\n",
    "- you can subtract sets to calculate what is in one but not the other \n"
   ]
  },
  {
   "cell_type": "code",
   "execution_count": null,
   "metadata": {
    "collapsed": true
   },
   "outputs": [],
   "source": []
  },
  {
   "cell_type": "markdown",
   "metadata": {},
   "source": [
    "In pseudocode:\n",
    "```    \n",
    "n = root \n",
    "\n",
    "while branches of n are not balanced: \n",
    "    n_orig_weights = branch weights \n",
    "    find which branch of n has different weights \n",
    "    n = branch \n",
    "return weight of n + right weight in n_orig_weights - wrong weight in n_orig_weights\n",
    "```"
   ]
  },
  {
   "cell_type": "code",
   "execution_count": 1,
   "metadata": {
    "collapsed": true
   },
   "outputs": [],
   "source": [
    "import sys, re"
   ]
  },
  {
   "cell_type": "code",
   "execution_count": 20,
   "metadata": {},
   "outputs": [],
   "source": [
    "d = [x.strip() for x in open('input_2017_07.txt').readlines()]"
   ]
  },
  {
   "cell_type": "code",
   "execution_count": 31,
   "metadata": {},
   "outputs": [],
   "source": [
    "# Splits the input into a dict.\n",
    "# each entry maps to a tuple, with (weight, [nodes above it])\n",
    "t = dict((m[0], (int(m[1]), m[3].split(', ') if m[3] else []))\n",
    "         for m in [re.match('(\\w+) \\((\\d+)\\)( -> ((\\w+, )*\\w+))?', l).groups()\n",
    "                   for l in d])"
   ]
  },
  {
   "cell_type": "code",
   "execution_count": 32,
   "metadata": {
    "collapsed": true
   },
   "outputs": [],
   "source": [
    "n = (set(t) - set(c for n in t for c in t[n][1])).pop()"
   ]
  },
  {
   "cell_type": "code",
   "execution_count": 50,
   "metadata": {},
   "outputs": [
    {
     "name": "stdout",
     "output_type": "stream",
     "text": [
      "{'svugo'}\n"
     ]
    }
   ],
   "source": [
    "# get all the ones above \n",
    "# the idea is that only the bottom program is above nothing\n",
    "set_above = set(c for n in t for c in t[n][1])\n",
    "n = set(t) - set_above\n",
    "print(n)"
   ]
  },
  {
   "cell_type": "code",
   "execution_count": 51,
   "metadata": {
    "collapsed": true
   },
   "outputs": [],
   "source": [
    "# part 2 \n",
    "# calculate the weight on a node\n",
    "w = lambda n: t[n][0] + sum(w(c) for c in t[n][1])\n",
    "# weight + recursive weight of the ones above it \n",
    "# has natural base case because for loop will hit empty list "
   ]
  },
  {
   "cell_type": "code",
   "execution_count": 61,
   "metadata": {},
   "outputs": [],
   "source": [
    "b = lambda n: len({w(c) for c in t[n][1]}) == 1\n",
    "# set makes it easy to see if it is balanced \n",
    "# for a node, find if the ones above are balanced \n",
    "# so this function is just a binary check "
   ]
  },
  {
   "cell_type": "code",
   "execution_count": 68,
   "metadata": {
    "collapsed": true
   },
   "outputs": [],
   "source": [
    "a = lambda n: sum(w(c) for c in t[n][1]) / len(t[n][1])\n",
    "# some kind of average weight of branches? \n",
    "# I guess if this is equal to the branch weight, then it's equal \n",
    "     # but we can check that also with set?"
   ]
  },
  {
   "cell_type": "code",
   "execution_count": 105,
   "metadata": {},
   "outputs": [
    {
     "name": "stdout",
     "output_type": "stream",
     "text": [
      "['gjxqx', 'xolvnpy', 'gtzxxav', 'njorjq', 'qpiklvf']\n",
      "['gjxqx', 'gjxqx', 'xolvnpy', 'gtzxxav', 'njorjq', 'qpiklvf']\n",
      "gjxqx\n",
      "['yruivis', 'rizjob', 'qsfwl', 'asckjlv', 'sfqwrge', 'bncdhrm']\n",
      "['yruivis', 'yruivis', 'rizjob', 'qsfwl', 'asckjlv', 'sfqwrge', 'bncdhrm']\n",
      "yruivis\n",
      "['sphbbz', 'oxipms', 'ggpau']\n",
      "['sphbbz', 'oxipms', 'ggpau']\n",
      "sphbbz\n",
      "1152\n"
     ]
    }
   ],
   "source": [
    "# while not balanced \n",
    "n = 'svugo'\n",
    "while not b(n):\n",
    "    # sort branches from how far they are from the average weight \n",
    "    # the further they are the higher the absoltute value \n",
    "    c = sorted(t[n][1], key=lambda c: -abs(w(c)-a(n)))\n",
    "    print(c)\n",
    "    print([c for c in t[n][1] if not b(c)] + c)\n",
    "    n = ([c for c in t[n][1] if not b(c)] + c)[0]\n",
    "    print(n)\n",
    "print(t[c[0]][0] + w(c[1]) - w(c[0]))"
   ]
  },
  {
   "cell_type": "code",
   "execution_count": 76,
   "metadata": {
    "collapsed": true
   },
   "outputs": [],
   "source": [
    "n = 'svugo'\n",
    "c = sorted(t[n][1], key=lambda c: -abs(w(c)-a(n)))"
   ]
  },
  {
   "cell_type": "code",
   "execution_count": 82,
   "metadata": {
    "collapsed": true
   },
   "outputs": [],
   "source": [
    "def something(c):\n",
    "    return(-abs(w(c)-a(n)))"
   ]
  },
  {
   "cell_type": "code",
   "execution_count": 86,
   "metadata": {},
   "outputs": [
    {
     "data": {
      "text/plain": [
       "[-7.19999999999709,\n",
       " -1.8000000000029104,\n",
       " -1.8000000000029104,\n",
       " -1.8000000000029104,\n",
       " -1.8000000000029104]"
      ]
     },
     "execution_count": 86,
     "metadata": {},
     "output_type": "execute_result"
    }
   ],
   "source": [
    "sorted([something(x) for x in t[n][1]])"
   ]
  },
  {
   "cell_type": "code",
   "execution_count": 87,
   "metadata": {
    "collapsed": true
   },
   "outputs": [],
   "source": [
    "# the (if not b(c)) checks to see if it is balanced\n",
    "n = ([c for c in t[n][1] if not b(c)] + c)[0]"
   ]
  },
  {
   "cell_type": "code",
   "execution_count": 98,
   "metadata": {},
   "outputs": [],
   "source": [
    "n = 'svugo'\n",
    "c = sorted(t[n][1], key=lambda c: -abs(w(c)-a(n)))"
   ]
  },
  {
   "cell_type": "code",
   "execution_count": 102,
   "metadata": {},
   "outputs": [
    {
     "data": {
      "text/plain": [
       "'gjxqx'"
      ]
     },
     "execution_count": 102,
     "metadata": {},
     "output_type": "execute_result"
    }
   ],
   "source": [
    "([c for c in t[n][1] if not b(c)] + c)[0]"
   ]
  },
  {
   "cell_type": "code",
   "execution_count": 99,
   "metadata": {},
   "outputs": [
    {
     "data": {
      "text/plain": [
       "['gjxqx', 'xolvnpy', 'gtzxxav', 'njorjq', 'qpiklvf']"
      ]
     },
     "execution_count": 99,
     "metadata": {},
     "output_type": "execute_result"
    }
   ],
   "source": [
    "c"
   ]
  },
  {
   "cell_type": "code",
   "execution_count": 84,
   "metadata": {
    "collapsed": true
   },
   "outputs": [],
   "source": [
    "# weight of branch - average branch weight"
   ]
  },
  {
   "cell_type": "code",
   "execution_count": 79,
   "metadata": {},
   "outputs": [
    {
     "data": {
      "text/plain": [
       "['gjxqx', 'gtzxxav', 'njorjq', 'qpiklvf', 'xolvnpy']"
      ]
     },
     "execution_count": 79,
     "metadata": {},
     "output_type": "execute_result"
    }
   ],
   "source": [
    "sorted(t[n][1], "
   ]
  },
  {
   "cell_type": "code",
   "execution_count": 67,
   "metadata": {},
   "outputs": [
    {
     "data": {
      "text/plain": [
       "{64652, 64661}"
      ]
     },
     "execution_count": 67,
     "metadata": {},
     "output_type": "execute_result"
    }
   ],
   "source": [
    "n = 'svugo'\n",
    "{w(c) for c in t[n][1]}"
   ]
  },
  {
   "cell_type": "code",
   "execution_count": 72,
   "metadata": {},
   "outputs": [
    {
     "data": {
      "text/plain": [
       "(27, [])"
      ]
     },
     "execution_count": 72,
     "metadata": {},
     "output_type": "execute_result"
    }
   ],
   "source": [
    "t['mladbjo']"
   ]
  },
  {
   "cell_type": "code",
   "execution_count": 73,
   "metadata": {},
   "outputs": [
    {
     "data": {
      "text/plain": [
       "64653.8"
      ]
     },
     "execution_count": 73,
     "metadata": {},
     "output_type": "execute_result"
    }
   ],
   "source": [
    "a('svugo')"
   ]
  },
  {
   "cell_type": "code",
   "execution_count": null,
   "metadata": {
    "collapsed": true
   },
   "outputs": [],
   "source": [
    "\n",
    "\n",
    "w = lambda n: t[n][0] + sum(w(c) for c in t[n][1])\n",
    "b = lambda n: len({w(c) for c in t[n][1]}) == 1\n",
    "a = lambda n: sum(w(c) for c in t[n][1]) / len(t[n][1])\n",
    "\n",
    "while not b(n):\n",
    "    c = sorted(t[n][1], key=lambda c: -abs(w(c)-a(n)))\n",
    "    n = ([c for c in t[n][1] if not b(c)] + c)[0]\n",
    "print(t[c[0]][0] + w(c[1]) - w(c[0]))"
   ]
  },
  {
   "cell_type": "code",
   "execution_count": null,
   "metadata": {
    "collapsed": true
   },
   "outputs": [],
   "source": []
  }
 ],
 "metadata": {
  "kernelspec": {
   "display_name": "Python 3",
   "language": "python",
   "name": "python3"
  },
  "language_info": {
   "codemirror_mode": {
    "name": "ipython",
    "version": 3
   },
   "file_extension": ".py",
   "mimetype": "text/x-python",
   "name": "python",
   "nbconvert_exporter": "python",
   "pygments_lexer": "ipython3",
   "version": "3.6.1"
  }
 },
 "nbformat": 4,
 "nbformat_minor": 2
}
