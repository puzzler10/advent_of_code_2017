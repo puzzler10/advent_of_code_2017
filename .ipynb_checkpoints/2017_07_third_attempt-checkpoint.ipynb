{
 "cells": [
  {
   "cell_type": "markdown",
   "metadata": {},
   "source": [
    "You can make a dict from a similar method to list comprehension. It's similar to using square brackets, but you use round, and then you wrap them in dict. You need to structure each row like (key, values), putting values in a list or as tuples as necessary. \n",
    "\n",
    "Examples: `dict((x, x**2) for x in range(10))`, \n",
    "`dict((x, [x**2, x**3]) for x in range(10))`"
   ]
  },
  {
   "cell_type": "code",
   "execution_count": 151,
   "metadata": {
    "collapsed": true
   },
   "outputs": [],
   "source": [
    "import re\n",
    "import numpy as np\n",
    "from functools import reduce"
   ]
  },
  {
   "cell_type": "code",
   "execution_count": 54,
   "metadata": {},
   "outputs": [],
   "source": [
    "# split into dict with (weight, [above]) tuples \n",
    "def extract_program_information(file_name):\n",
    "    txt = [x.strip() for x in open(file_name)]\n",
    "    expression = '(\\w+) \\((\\d+)\\)( -> ([\\w, ]+))?'\n",
    "    re_groups = [re.match(expression, line).groups() for line in txt]\n",
    "    nodes = dict((group[0], \n",
    "          (int(group[1]), \n",
    "          group[3].split(', ') \n",
    "             if group[3] else []))\n",
    "     for group in re_groups)\n",
    "    return nodes\n",
    "\n"
   ]
  },
  {
   "cell_type": "code",
   "execution_count": 118,
   "metadata": {},
   "outputs": [],
   "source": [
    "test_nodes  = extract_program_information('input_2017_07_test.txt')\n",
    "real_nodes = extract_program_information('input_2017_07.txt')"
   ]
  },
  {
   "cell_type": "markdown",
   "metadata": {},
   "source": [
    "## Part 1: find the bottom node"
   ]
  },
  {
   "cell_type": "markdown",
   "metadata": {},
   "source": [
    "Key insight: the bottom node has no programs on it"
   ]
  },
  {
   "cell_type": "code",
   "execution_count": 94,
   "metadata": {},
   "outputs": [],
   "source": [
    "def find_bottom_program(nodes):\n",
    "    program_set = set(nodes)\n",
    "    nodes_above_list = [set(x[1]) for x in nodes.values() if x[1] != []]\n",
    "    nodes_above_set = reduce(lambda x,y: x.union(y), nodes_above_list)\n",
    "    return((program_set - nodes_above_set).pop())\n",
    "    \n",
    "    # also possible in one line, but readibility is difficult \n",
    "    # set(val for x in t.values() for val in x[1] if x[1])\n",
    "    \n",
    "    # maybe a more readable version? \n",
    "#     s1 = set()\n",
    "#     for dict_name in t:\n",
    "#         for node_above in t[dict_name][1]: \n",
    "#             s1.add(node_above)"
   ]
  },
  {
   "cell_type": "code",
   "execution_count": 95,
   "metadata": {},
   "outputs": [
    {
     "data": {
      "text/plain": [
       "'tknk'"
      ]
     },
     "execution_count": 95,
     "metadata": {},
     "output_type": "execute_result"
    }
   ],
   "source": [
    "find_bottom_program(test_nodes)"
   ]
  },
  {
   "cell_type": "code",
   "execution_count": 119,
   "metadata": {},
   "outputs": [
    {
     "data": {
      "text/plain": [
       "'svugo'"
      ]
     },
     "execution_count": 119,
     "metadata": {},
     "output_type": "execute_result"
    }
   ],
   "source": [
    "find_bottom_program(real_nodes)"
   ]
  },
  {
   "cell_type": "markdown",
   "metadata": {},
   "source": [
    "## Part 2 "
   ]
  },
  {
   "cell_type": "code",
   "execution_count": 203,
   "metadata": {
    "collapsed": true
   },
   "outputs": [],
   "source": [
    "# Recursive function to calculate weight \n",
    "def get_weight(name):\n",
    "    weight_sum = nodes[name][0]\n",
    "    for name_above in nodes[name][1]: \n",
    "        weight_sum += get_weights(name_above)\n",
    "    return weight_sum"
   ]
  },
  {
   "cell_type": "code",
   "execution_count": 204,
   "metadata": {
    "collapsed": true
   },
   "outputs": [],
   "source": [
    "def is_balanced(name): \n",
    "    s = set(get_weight(x) for x in nodes[name][1])\n",
    "    return len(s) == 1 "
   ]
  },
  {
   "cell_type": "code",
   "execution_count": 205,
   "metadata": {
    "collapsed": true
   },
   "outputs": [],
   "source": [
    "def identify_unbalanced_branch(name):\n",
    "    weights = [get_weight(x) for x in nodes[name][1]]\n",
    "    unbalanced_index = np.argmax(abs(weights - np.mean(weights)))\n",
    "    return nodes[name][1][unbalanced_index]"
   ]
  },
  {
   "cell_type": "code",
   "execution_count": 207,
   "metadata": {},
   "outputs": [],
   "source": [
    "def find_correct_weight(nodes_to_use):\n",
    "    global nodes\n",
    "    nodes = nodes_to_use\n",
    "    n = find_bottom_program(nodes)\n",
    "    while not is_balanced(n): \n",
    "        old_n = n\n",
    "        prev_weights = [get_weight(x) for x in nodes[n][1]]\n",
    "        n = identify_unbalanced_branch(n) \n",
    "\n",
    "    correct_branch_weight = (np.sum(prev_weights) - get_weight(n)) / (len(prev_weights) -1 )\n",
    "    return nodes[n][0] + correct_branch_weight - get_weight(n)"
   ]
  },
  {
   "cell_type": "code",
   "execution_count": 210,
   "metadata": {},
   "outputs": [
    {
     "data": {
      "text/plain": [
       "60.0"
      ]
     },
     "execution_count": 210,
     "metadata": {},
     "output_type": "execute_result"
    }
   ],
   "source": [
    "find_correct_weight(test_nodes)"
   ]
  },
  {
   "cell_type": "code",
   "execution_count": 211,
   "metadata": {},
   "outputs": [
    {
     "data": {
      "text/plain": [
       "1152.0"
      ]
     },
     "execution_count": 211,
     "metadata": {},
     "output_type": "execute_result"
    }
   ],
   "source": [
    "find_correct_weight(real_nodes)"
   ]
  }
 ],
 "metadata": {
  "kernelspec": {
   "display_name": "Python 3",
   "language": "python",
   "name": "python3"
  },
  "language_info": {
   "codemirror_mode": {
    "name": "ipython",
    "version": 3
   },
   "file_extension": ".py",
   "mimetype": "text/x-python",
   "name": "python",
   "nbconvert_exporter": "python",
   "pygments_lexer": "ipython3",
   "version": "3.6.1"
  }
 },
 "nbformat": 4,
 "nbformat_minor": 2
}
