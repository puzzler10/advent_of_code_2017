{
 "cells": [
  {
   "cell_type": "code",
   "execution_count": 41,
   "metadata": {
    "collapsed": true,
    "scrolled": true
   },
   "outputs": [],
   "source": [
    "import math\n",
    "import numpy as np\n",
    "from itertools import accumulate\n",
    "number = 277678"
   ]
  },
  {
   "cell_type": "markdown",
   "metadata": {},
   "source": [
    "**Practice points**\n",
    "- working with lists of shape (4,) and converting to numpy structures \n",
    "- when to use np.stack and np.reshape"
   ]
  },
  {
   "cell_type": "markdown",
   "metadata": {},
   "source": [
    "## Part 1"
   ]
  },
  {
   "cell_type": "markdown",
   "metadata": {},
   "source": [
    "Observations\n",
    "* Diagonals are odd\n",
    "* Can tell the layer by which pair of odd squares it is between \n",
    "* Diagonals are furthest distance \n",
    "* diff between layers always goes up by 8 "
   ]
  },
  {
   "cell_type": "markdown",
   "metadata": {},
   "source": [
    "Plan: Find min and upper bound by finding diagonal and parallel number, then count the difference from there."
   ]
  },
  {
   "cell_type": "code",
   "execution_count": 136,
   "metadata": {},
   "outputs": [],
   "source": [
    "# Generate list of odd squares \n",
    "odd_squares = [i**2 for i in range(1, 999, 2)]\n",
    "\n",
    "# Check if the number is in odd_squares (quick win)\n",
    "if(number in odd_squares):\n",
    "    print(math.sqrt(number) - 1)\n",
    "    \n",
    "# Find which pair of numbers the odd square number is between \n",
    "higher_square_bound = [odd_squares[i+1] for i in range(len(odd_squares)-1) \n",
    "if odd_squares[i] < number  and odd_squares[i+1] > number ]\n",
    "\n",
    "# Calculate the four diagonals \n",
    "first_order_difference_start_values = [2,4,6,8]\n",
    "first_order_difference = np.array(\n",
    "    [list(range(start_val, 10002, 8))\n",
    "     for start_val in first_order_difference_start_values])\n",
    "diagonals = np.cumsum(first_order_difference, axis = 1)+1\n",
    "\n",
    "# Calculate the four straight lines \n",
    "first_order_difference_start_values = [1,3,5,7]\n",
    "first_order_difference = np.array(\n",
    "    [list(range(start_val, 10000, 8))\n",
    "     for start_val in first_order_difference_start_values])\n",
    "straight_lines = np.cumsum(first_order_difference, axis = 1)+1"
   ]
  },
  {
   "cell_type": "code",
   "execution_count": 128,
   "metadata": {},
   "outputs": [
    {
     "data": {
      "text/plain": [
       "(4, 33)"
      ]
     },
     "execution_count": 128,
     "metadata": {},
     "output_type": "execute_result"
    }
   ],
   "source": [
    "# See between straight_line pair it is \n",
    "for i in range(diagonals.shape[1]):\n",
    "    for j in range(straight_lines.shape[1]):\n",
    "        \n",
    "diagonals.shape"
   ]
  },
  {
   "cell_type": "code",
   "execution_count": 142,
   "metadata": {},
   "outputs": [
    {
     "data": {
      "text/plain": [
       "array([[      3,      13,      31, ..., 6227521, 6237507, 6247501],\n",
       "       [      5,      17,      37, ..., 6230017, 6240005, 6250001],\n",
       "       [      7,      21,      43, ..., 6232513, 6242503, 6252501],\n",
       "       [      9,      25,      49, ..., 6235009, 6245001, 6255001]])"
      ]
     },
     "execution_count": 142,
     "metadata": {},
     "output_type": "execute_result"
    }
   ],
   "source": [
    "diagonals"
   ]
  },
  {
   "cell_type": "code",
   "execution_count": null,
   "metadata": {
    "collapsed": true
   },
   "outputs": [],
   "source": []
  }
 ],
 "metadata": {
  "kernelspec": {
   "display_name": "Python 3",
   "language": "python",
   "name": "python3"
  },
  "language_info": {
   "codemirror_mode": {
    "name": "ipython",
    "version": 3
   },
   "file_extension": ".py",
   "mimetype": "text/x-python",
   "name": "python",
   "nbconvert_exporter": "python",
   "pygments_lexer": "ipython3",
   "version": "3.6.1"
  }
 },
 "nbformat": 4,
 "nbformat_minor": 2
}
