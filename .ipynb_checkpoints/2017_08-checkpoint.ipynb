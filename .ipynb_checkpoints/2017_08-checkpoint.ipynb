{
 "cells": [
  {
   "cell_type": "markdown",
   "metadata": {},
   "source": [
    "Thoughts: \n",
    "* I like the use of the lookup, but it felt a bit long. Use shorter name lengths next time. It felt cleaner and more readable than just using the direct groups \n",
    "* The exception was useful when debugging. I think investing in debugging techniques would pay off."
   ]
  },
  {
   "cell_type": "code",
   "execution_count": 90,
   "metadata": {},
   "outputs": [],
   "source": [
    "import re\n",
    "from collections import defaultdict\n",
    "from IPython.core.debugger import set_trace"
   ]
  },
  {
   "cell_type": "code",
   "execution_count": 35,
   "metadata": {
    "collapsed": true
   },
   "outputs": [],
   "source": [
    "test = \"\"\"b inc 5 if a > 1\n",
    "a inc 1 if b < 5\n",
    "c dec -10 if a >= 1\n",
    "c inc -20 if c == 10\n",
    "\"\"\".splitlines()\n",
    "txt = [line.strip() for line in open('input_2017_08.txt')]"
   ]
  },
  {
   "cell_type": "code",
   "execution_count": 118,
   "metadata": {
    "collapsed": true
   },
   "outputs": [],
   "source": [
    "def parse_input(input_lines):\n",
    "    expression = '(\\w+) (\\w+) (-?\\d+) if (\\w+) (\\W+) (-?\\d+)'\n",
    "    groups = [re.match(expression, x).groups() for x in input_lines]\n",
    "    return groups"
   ]
  },
  {
   "cell_type": "code",
   "execution_count": 119,
   "metadata": {
    "code_folding": []
   },
   "outputs": [],
   "source": [
    "def find_values(groups): \n",
    "    values = defaultdict(lambda: 0)  # holds the value of each register\n",
    "    for line in groups:  \n",
    "        # not strictly needed, but useful for readability \n",
    "        lookup = {\n",
    "            'target':line[0],\n",
    "            'operator': line[1], \n",
    "            'operator_value': line[2], \n",
    "            'condition_target': line[3], \n",
    "            'condition_operator': line[4], \n",
    "            'condition_value': line[5]\n",
    "        }\n",
    "        # evaluate the condition \n",
    "        condition_string = str(values[lookup['condition_target']]) + \\\n",
    "            lookup['condition_operator'] + str(lookup['condition_value'])\n",
    "        if eval(condition_string): \n",
    "            if lookup['operator'] == 'inc':\n",
    "                values[lookup['target']] += int(lookup['operator_value'])\n",
    "            elif lookup['operator'] == 'dec':\n",
    "                values[lookup['target']] -= int(lookup['operator_value'])\n",
    "            else:\n",
    "                raise Exception('operator not inc or dec')\n",
    "    return values"
   ]
  },
  {
   "cell_type": "code",
   "execution_count": 120,
   "metadata": {},
   "outputs": [
    {
     "name": "stdout",
     "output_type": "stream",
     "text": [
      "1\n"
     ]
    }
   ],
   "source": [
    "groups = parse_input(test)\n",
    "values = find_values(groups)\n",
    "print(max(list(values.values())))"
   ]
  },
  {
   "cell_type": "code",
   "execution_count": 121,
   "metadata": {},
   "outputs": [
    {
     "name": "stdout",
     "output_type": "stream",
     "text": [
      "3089\n"
     ]
    }
   ],
   "source": [
    "groups = parse_input(txt)\n",
    "values = find_values(groups)\n",
    "print(max(list(values.values())))"
   ]
  },
  {
   "cell_type": "markdown",
   "metadata": {},
   "source": [
    "## Part 2 "
   ]
  },
  {
   "cell_type": "code",
   "execution_count": 123,
   "metadata": {},
   "outputs": [],
   "source": [
    "def find_values_pt2(groups): \n",
    "    values = defaultdict(lambda: 0)  # holds the value of each register\n",
    "    highest_value = 0 \n",
    "    for line in groups:  \n",
    "        # not stritly needed, but useful for readability \n",
    "        lookup = {\n",
    "            'target':line[0],\n",
    "            'operator': line[1], \n",
    "            'operator_value': line[2], \n",
    "            'condition_target': line[3], \n",
    "            'condition_operator': line[4], \n",
    "            'condition_value': line[5]\n",
    "        }\n",
    "        # evaluate the condition \n",
    "        condition_string = str(values[lookup['condition_target']]) + \\\n",
    "            lookup['condition_operator'] + str(lookup['condition_value'])\n",
    "        if eval(condition_string): \n",
    "            if lookup['operator'] == 'inc':\n",
    "                values[lookup['target']] += int(lookup['operator_value'])\n",
    "            elif lookup['operator'] == 'dec':\n",
    "                values[lookup['target']] -= int(lookup['operator_value'])\n",
    "            else:\n",
    "                raise Exception('operator not inc or dec')\n",
    "        \n",
    "        highest_value = max(highest_value, max(list(values.values())))\n",
    "    return (values, highest_value)"
   ]
  },
  {
   "cell_type": "code",
   "execution_count": 124,
   "metadata": {},
   "outputs": [
    {
     "name": "stdout",
     "output_type": "stream",
     "text": [
      "10\n"
     ]
    }
   ],
   "source": [
    "groups = parse_input(test)\n",
    "values, highest_value = find_values_pt2(groups)\n",
    "print(highest_value)"
   ]
  },
  {
   "cell_type": "code",
   "execution_count": 125,
   "metadata": {},
   "outputs": [
    {
     "name": "stdout",
     "output_type": "stream",
     "text": [
      "5391\n"
     ]
    }
   ],
   "source": [
    "groups = parse_input(txt)\n",
    "values, highest_value = find_values_pt2(groups)\n",
    "print(highest_value)"
   ]
  },
  {
   "cell_type": "markdown",
   "metadata": {},
   "source": [
    "## Other solutions "
   ]
  },
  {
   "cell_type": "markdown",
   "metadata": {},
   "source": [
    "* Looks like your use of regex was not necessary. A simple split could have done the job. I chose to use a regex when initially I was going down the `exec` route, but then didn't update my initial choice after abandoning that decision. \n",
    "* You can use `dict.get('a')` instead of `dict['a']` to avoid a KeyError exception\n",
    "* You can also use `dict.get('a', 'default_value')` to throw a default value if 'a' is not found\n",
    "* Integers have dunder methods for comparisons. You can use `ge` for greater than/equal to, `eq` for equal, `ne` for not equal etc "
   ]
  },
  {
   "cell_type": "code",
   "execution_count": 127,
   "metadata": {
    "collapsed": true
   },
   "outputs": [],
   "source": [
    "import sys"
   ]
  },
  {
   "cell_type": "code",
   "execution_count": 129,
   "metadata": {},
   "outputs": [
    {
     "name": "stdout",
     "output_type": "stream",
     "text": [
      "3089\n",
      "5391\n"
     ]
    }
   ],
   "source": [
    "ls = [x.strip().split() for x in open('input_2017_08.txt')]\n",
    "\n",
    "o = {'==': 'eq', '!=': 'ne', '<=': 'le', '>=': 'ge', '<': 'lt', '>': 'gt'}\n",
    "d, h = {}, 0\n",
    "\n",
    "for w in ls:\n",
    "    if getattr(d.get(w[4], 0), '__'+o[w[5]]+'__')(int(w[6])):\n",
    "        d[w[0]] = d.get(w[0], 0) + (int(w[2]) if w[1] == 'inc' else -int(w[2]))\n",
    "        h = max(h, d[w[0]])\n",
    "print(max(d.values()))\n",
    "print(h)\n"
   ]
  },
  {
   "cell_type": "code",
   "execution_count": 203,
   "metadata": {},
   "outputs": [
    {
     "data": {
      "text/plain": [
       "6"
      ]
     },
     "execution_count": 203,
     "metadata": {},
     "output_type": "execute_result"
    }
   ],
   "source": [
    "int(x='110', base = 2)"
   ]
  },
  {
   "cell_type": "code",
   "execution_count": 204,
   "metadata": {},
   "outputs": [
    {
     "data": {
      "text/plain": [
       "<function int.__trunc__>"
      ]
     },
     "execution_count": 204,
     "metadata": {},
     "output_type": "execute_result"
    }
   ],
   "source": [
    "x.__trunc__"
   ]
  },
  {
   "cell_type": "code",
   "execution_count": 141,
   "metadata": {
    "collapsed": true
   },
   "outputs": [],
   "source": [
    "txt = ls[1:4]\n",
    "d, h = {}, 0\n",
    "w = ls[0]"
   ]
  },
  {
   "cell_type": "code",
   "execution_count": 193,
   "metadata": {},
   "outputs": [
    {
     "name": "stdout",
     "output_type": "stream",
     "text": [
      "lt\n",
      "lt\n",
      "lt\n",
      "eq\n",
      "ge\n",
      "ge\n",
      "ge\n",
      "ge\n",
      "ge\n",
      "ge\n"
     ]
    }
   ],
   "source": [
    "for x in range(10):\n",
    "    if x.__gt__(3): \n",
    "        print('ge')\n",
    "    elif x.__lt__(3):\n",
    "        print('lt')\n",
    "    elif x.__eq__(3): \n",
    "        print('eq')"
   ]
  },
  {
   "cell_type": "code",
   "execution_count": 188,
   "metadata": {},
   "outputs": [
    {
     "ename": "AttributeError",
     "evalue": "'int' object has no attribute '__'",
     "output_type": "error",
     "traceback": [
      "\u001b[0;31m--------------------------------------------------------------------------\u001b[0m",
      "\u001b[0;31mAttributeError\u001b[0m                           Traceback (most recent call last)",
      "\u001b[0;32m<ipython-input-188-f09a59eb9c9f>\u001b[0m in \u001b[0;36m<module>\u001b[0;34m()\u001b[0m\n\u001b[0;32m----> 1\u001b[0;31m \u001b[0mx\u001b[0m\u001b[0;34m.\u001b[0m\u001b[0m__\u001b[0m\u001b[0;34m\u001b[0m\u001b[0m\n\u001b[0m",
      "\u001b[0;31mAttributeError\u001b[0m: 'int' object has no attribute '__'"
     ]
    }
   ],
   "source": [
    "x.__"
   ]
  },
  {
   "cell_type": "code",
   "execution_count": 181,
   "metadata": {},
   "outputs": [],
   "source": [
    "x = 0 "
   ]
  },
  {
   "cell_type": "code",
   "execution_count": 179,
   "metadata": {},
   "outputs": [
    {
     "data": {
      "text/plain": [
       "0"
      ]
     },
     "execution_count": 179,
     "metadata": {},
     "output_type": "execute_result"
    }
   ],
   "source": [
    "d.get('k', 0)"
   ]
  },
  {
   "cell_type": "code",
   "execution_count": 175,
   "metadata": {},
   "outputs": [
    {
     "data": {
      "text/plain": [
       "'k'"
      ]
     },
     "execution_count": 175,
     "metadata": {},
     "output_type": "execute_result"
    }
   ],
   "source": [
    "w[4]"
   ]
  },
  {
   "cell_type": "code",
   "execution_count": 174,
   "metadata": {},
   "outputs": [
    {
     "data": {
      "text/plain": [
       "dict_values([1224, -3388, -1503, -937, 1606, 3089, -1999, 58, -5114, 727, -645, -5316, -3305, 2348, 1209, 487, -816, -3434, 739, -1677, -1572, 2291, 2548, -8091, -1974, 895, -3882, 3066])"
      ]
     },
     "execution_count": 174,
     "metadata": {},
     "output_type": "execute_result"
    }
   ],
   "source": []
  },
  {
   "cell_type": "code",
   "execution_count": 167,
   "metadata": {},
   "outputs": [
    {
     "data": {
      "text/plain": [
       "<function dict.get>"
      ]
     },
     "execution_count": 167,
     "metadata": {},
     "output_type": "execute_result"
    }
   ],
   "source": [
    "getattr(d,)"
   ]
  },
  {
   "cell_type": "code",
   "execution_count": 145,
   "metadata": {},
   "outputs": [],
   "source": [
    "d.get('a')"
   ]
  },
  {
   "cell_type": "code",
   "execution_count": 147,
   "metadata": {},
   "outputs": [
    {
     "data": {
      "text/plain": [
       "3089"
      ]
     },
     "execution_count": 147,
     "metadata": {},
     "output_type": "execute_result"
    }
   ],
   "source": [
    "values.get('a')"
   ]
  },
  {
   "cell_type": "code",
   "execution_count": 150,
   "metadata": {},
   "outputs": [],
   "source": [
    "d.get('a')"
   ]
  },
  {
   "cell_type": "code",
   "execution_count": 136,
   "metadata": {},
   "outputs": [],
   "source": [
    "txt = ls"
   ]
  },
  {
   "cell_type": "code",
   "execution_count": 163,
   "metadata": {},
   "outputs": [
    {
     "ename": "AttributeError",
     "evalue": "'dict' object has no attribute 'target'",
     "output_type": "error",
     "traceback": [
      "\u001b[0;31m--------------------------------------------------------------------------\u001b[0m",
      "\u001b[0;31mAttributeError\u001b[0m                           Traceback (most recent call last)",
      "\u001b[0;32m<ipython-input-163-b1edfd7c2929>\u001b[0m in \u001b[0;36m<module>\u001b[0;34m()\u001b[0m\n\u001b[0;32m----> 1\u001b[0;31m \u001b[0mgetattr\u001b[0m\u001b[0;34m(\u001b[0m\u001b[0mlookup\u001b[0m\u001b[0;34m,\u001b[0m \u001b[0;34m'target'\u001b[0m\u001b[0;34m)\u001b[0m\u001b[0;34m\u001b[0m\u001b[0m\n\u001b[0m",
      "\u001b[0;31mAttributeError\u001b[0m: 'dict' object has no attribute 'target'"
     ]
    }
   ],
   "source": [
    "getattr(lookup, 'target')"
   ]
  },
  {
   "cell_type": "code",
   "execution_count": null,
   "metadata": {
    "collapsed": true
   },
   "outputs": [],
   "source": []
  }
 ],
 "metadata": {
  "kernelspec": {
   "display_name": "Python 3",
   "language": "python",
   "name": "python3"
  },
  "language_info": {
   "codemirror_mode": {
    "name": "ipython",
    "version": 3
   },
   "file_extension": ".py",
   "mimetype": "text/x-python",
   "name": "python",
   "nbconvert_exporter": "python",
   "pygments_lexer": "ipython3",
   "version": "3.6.1"
  }
 },
 "nbformat": 4,
 "nbformat_minor": 2
}
