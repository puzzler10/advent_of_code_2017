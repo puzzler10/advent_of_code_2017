{
 "cells": [
  {
   "cell_type": "code",
   "execution_count": 165,
   "metadata": {
    "collapsed": true
   },
   "outputs": [],
   "source": [
    "from IPython.core.debugger import set_trace"
   ]
  },
  {
   "cell_type": "markdown",
   "metadata": {},
   "source": [
    "### mucking around with data structures and graphs"
   ]
  },
  {
   "cell_type": "markdown",
   "metadata": {},
   "source": [
    "#### Linked List"
   ]
  },
  {
   "cell_type": "code",
   "execution_count": 26,
   "metadata": {},
   "outputs": [],
   "source": [
    "value = [1,2,3,4,5]\n",
    "next_value = value[1:]\n",
    "next_value.append(None)\n",
    "linked_list = [value, next_value]"
   ]
  },
  {
   "cell_type": "markdown",
   "metadata": {},
   "source": [
    "#### Simple graph"
   ]
  },
  {
   "cell_type": "code",
   "execution_count": 126,
   "metadata": {},
   "outputs": [],
   "source": [
    "class wire:\n",
    "    # variables shared by all members of the class go here \n",
    "    type = 'wire'\n",
    "    \n",
    "    # The function called when you make a new instance of the class \n",
    "    def __init__(self, name):\n",
    "        self.name = name\n",
    "        self.inputs = []\n",
    "        self.outputs = []\n",
    "        self.value = None\n",
    "    \n",
    "    def add_input(self, inp):\n",
    "        \"\"\"Add the wires that result in this wire. Can be either a number (in case of\n",
    "        assignment), one letter (for NOT and L/RSHIFT) or two letters. \"\"\"\n",
    "        self.inputs.append(inp)\n",
    "        \n",
    "    def add_output(self, output):\n",
    "        \"\"\"Add the outputs of this wire\"\"\"\n",
    "        self.outputs.append(output)\n",
    "    "
   ]
  },
  {
   "cell_type": "code",
   "execution_count": 149,
   "metadata": {
    "collapsed": true
   },
   "outputs": [],
   "source": [
    "def assign_value(x):\n",
    "    if x.inputs[0][1] == 'ASSIGN':\n",
    "        if(isinstance(x.inputs[0][0], wire)):\n",
    "            # Case where we link to another object\n",
    "            x.value = x.inputs[0][0].value \n",
    "        else:\n",
    "            # Case where we have a number \n",
    "            x.value = x.inputs[0][0]\n",
    "    else: \n",
    "        print(\"was not actually Assign\")"
   ]
  },
  {
   "cell_type": "code",
   "execution_count": 150,
   "metadata": {
    "collapsed": true
   },
   "outputs": [],
   "source": [
    "assign_value(a)"
   ]
  },
  {
   "cell_type": "code",
   "execution_count": 240,
   "metadata": {
    "collapsed": true
   },
   "outputs": [],
   "source": [
    "# Implement: \n",
    "# a AND c -> d\n",
    "# 1 OR a -> b\n",
    "# c -> a\n",
    "# 50 -> c \n",
    "# NOT b -> c\n",
    "a,b,c,d  = wire('a'), wire('b'), wire('c'), wire('d')"
   ]
  },
  {
   "cell_type": "code",
   "execution_count": 245,
   "metadata": {
    "collapsed": true
   },
   "outputs": [],
   "source": [
    "## Building Step \n",
    "# line 1\n",
    "d.add_input(([a,c], 'AND'))\n",
    "# line 2\n",
    "b.add_input(([1,a], 'OR'))\n",
    "# line 3\n",
    "a.add_input((c, 'ASSIGN'))\n",
    "# line 4\n",
    "c.add_input((50, 'ASSIGN'))\n",
    "# line 5xs \n",
    "c.add_input((b, 'NOT'))\n"
   ]
  },
  {
   "cell_type": "code",
   "execution_count": 246,
   "metadata": {},
   "outputs": [],
   "source": [
    "## Traceback step\n",
    "def follow_inputs(x): \n",
    "    \"\"\"x is a wire \"\"\"\n",
    "    #set_trace()\n",
    "    if isinstance(x.inputs[0][0], wire):\n",
    "        print('length 1 case: ', x.inputs[0][0].name)\n",
    "        follow_inputs(x.inputs[0][0])\n",
    "    else:\n",
    "        for i in x.inputs[0][0]:\n",
    "            if i == 1 or i == 0:\n",
    "                pass\n",
    "            elif i.inputs[0][1] == 'ASSIGN':\n",
    "                print('assign case: ', i.name)\n",
    "                assign_value(i)\n",
    "                print(i.name + ' assigned ' + str(i.value))\n",
    "            else:\n",
    "                print('not assign case: ', i.name)\n",
    "                follow_inputs(i)\n",
    "        "
   ]
  },
  {
   "cell_type": "code",
   "execution_count": 243,
   "metadata": {},
   "outputs": [
    {
     "name": "stdout",
     "output_type": "stream",
     "text": [
      "assign case:  a\n",
      "a assigned None\n",
      "assign case:  c\n",
      "c assigned 50\n"
     ]
    }
   ],
   "source": [
    "follow_inputs(d)"
   ]
  },
  {
   "cell_type": "code",
   "execution_count": 244,
   "metadata": {},
   "outputs": [],
   "source": [
    "a.value"
   ]
  },
  {
   "cell_type": "code",
   "execution_count": null,
   "metadata": {
    "collapsed": true
   },
   "outputs": [],
   "source": []
  }
 ],
 "metadata": {
  "kernelspec": {
   "display_name": "Python 3",
   "language": "python",
   "name": "python3"
  },
  "language_info": {
   "codemirror_mode": {
    "name": "ipython",
    "version": 3
   },
   "file_extension": ".py",
   "mimetype": "text/x-python",
   "name": "python",
   "nbconvert_exporter": "python",
   "pygments_lexer": "ipython3",
   "version": "3.6.1"
  }
 },
 "nbformat": 4,
 "nbformat_minor": 2
}
