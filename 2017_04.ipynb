{
 "cells": [
  {
   "cell_type": "markdown",
   "metadata": {},
   "source": [
    "I like how you can use Counter to count up Tuples. That made solving this task straightforward."
   ]
  },
  {
   "cell_type": "code",
   "execution_count": 1,
   "metadata": {
    "collapsed": true
   },
   "outputs": [],
   "source": [
    "from IPython.core.debugger import set_trace"
   ]
  },
  {
   "cell_type": "code",
   "execution_count": 25,
   "metadata": {
    "collapsed": true
   },
   "outputs": [],
   "source": [
    "def is_valid(line): \n",
    "    txt = line.strip('\\n').split(' ')\n",
    "    txt.sort()\n",
    "    for i, j in zip(range(len(txt)),range(1, len(txt))):\n",
    "        if txt[i] == txt[j]:\n",
    "            return False\n",
    "    return True"
   ]
  },
  {
   "cell_type": "code",
   "execution_count": 26,
   "metadata": {},
   "outputs": [
    {
     "name": "stdout",
     "output_type": "stream",
     "text": [
      "383\n"
     ]
    }
   ],
   "source": [
    "f = open('input_2017_04.txt')\n",
    "n_valid = 0 \n",
    "for line in f: \n",
    "    if(is_valid(line)):\n",
    "        n_valid += 1 \n",
    "print(n_valid)"
   ]
  },
  {
   "cell_type": "code",
   "execution_count": 29,
   "metadata": {},
   "outputs": [],
   "source": [
    "# test cases \n",
    "assert is_valid(\"aa bb cc dd ee\") == True\n",
    "assert is_valid(\"aa bb cc dd aa\") == False\n",
    "assert is_valid(\"aa bb cc dd aaa\") == True"
   ]
  },
  {
   "cell_type": "markdown",
   "metadata": {},
   "source": [
    "The `Counter` object from `collections` is probably good for this task as well. "
   ]
  },
  {
   "cell_type": "code",
   "execution_count": 30,
   "metadata": {},
   "outputs": [],
   "source": [
    "from collections import Counter"
   ]
  },
  {
   "cell_type": "code",
   "execution_count": 67,
   "metadata": {},
   "outputs": [],
   "source": [
    "def is_valid_counter(line): \n",
    "    txt = line.strip('\\n').split(' ')\n",
    "    count = Counter(txt)\n",
    "    return count.most_common(1)[0][1] == 1"
   ]
  },
  {
   "cell_type": "code",
   "execution_count": 68,
   "metadata": {},
   "outputs": [
    {
     "name": "stdout",
     "output_type": "stream",
     "text": [
      "383\n"
     ]
    }
   ],
   "source": [
    "f = open('input_2017_04.txt')\n",
    "n_valid = 0 \n",
    "for line in f: \n",
    "    if(is_valid_counter(line)):\n",
    "        n_valid += 1 \n",
    "print(n_valid)"
   ]
  },
  {
   "cell_type": "markdown",
   "metadata": {},
   "source": [
    "### Part 2 "
   ]
  },
  {
   "cell_type": "code",
   "execution_count": 100,
   "metadata": {
    "collapsed": true
   },
   "outputs": [],
   "source": [
    "def is_valid_anagram(line): \n",
    "    txt = line.strip('\\n').split(' ')\n",
    "    words = [tuple(sorted(list(word))) for word in txt]\n",
    "    return Counter(words).most_common(1)[0][1] == 1"
   ]
  },
  {
   "cell_type": "code",
   "execution_count": 101,
   "metadata": {},
   "outputs": [
    {
     "name": "stdout",
     "output_type": "stream",
     "text": [
      "265\n"
     ]
    }
   ],
   "source": [
    "f = open('input_2017_04.txt')\n",
    "n_valid = 0 \n",
    "for line in f: \n",
    "    if(is_valid_anagram(line)):\n",
    "        n_valid += 1 \n",
    "print(n_valid)"
   ]
  },
  {
   "cell_type": "markdown",
   "metadata": {},
   "source": [
    "A faster way to do part 1 "
   ]
  },
  {
   "cell_type": "code",
   "execution_count": 111,
   "metadata": {
    "collapsed": true
   },
   "outputs": [],
   "source": [
    "def is_valid(line: str) -> bool: \n",
    "    txt = line.split(' ')\n",
    "    n_words = len(txt)\n",
    "    n_unique_words = len(set(txt))\n",
    "    return n_words == n_unique_words\n",
    "    "
   ]
  },
  {
   "cell_type": "code",
   "execution_count": 107,
   "metadata": {},
   "outputs": [],
   "source": [
    "txt\n",
    "n_words = len(txt)\n",
    "n_unique_words = len(set(txt))\n"
   ]
  },
  {
   "cell_type": "code",
   "execution_count": 110,
   "metadata": {},
   "outputs": [
    {
     "data": {
      "text/plain": [
       "6"
      ]
     },
     "execution_count": 110,
     "metadata": {},
     "output_type": "execute_result"
    }
   ],
   "source": [
    "len(n_unique_words)"
   ]
  },
  {
   "cell_type": "code",
   "execution_count": 115,
   "metadata": {},
   "outputs": [
    {
     "data": {
      "text/plain": [
       "['c', 'd', 'e', 'f', 'g', 'g', 'g', 'g', 't', 'x', 'z']"
      ]
     },
     "execution_count": 115,
     "metadata": {},
     "output_type": "execute_result"
    }
   ],
   "source": [
    "sorted('teggggfdzcx')"
   ]
  },
  {
   "cell_type": "code",
   "execution_count": null,
   "metadata": {
    "collapsed": true
   },
   "outputs": [],
   "source": []
  }
 ],
 "metadata": {
  "kernelspec": {
   "display_name": "Python 3",
   "language": "python",
   "name": "python3"
  }
 },
 "nbformat": 4,
 "nbformat_minor": 2
}
