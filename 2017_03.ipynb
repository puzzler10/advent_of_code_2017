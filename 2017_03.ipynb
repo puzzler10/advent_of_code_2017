{
 "cells": [
  {
   "cell_type": "code",
   "execution_count": 329,
   "metadata": {
    "collapsed": true,
    "scrolled": true
   },
   "outputs": [],
   "source": [
    "import math\n",
    "import numpy as np\n",
    "from itertools import accumulate\n",
    "number = 277678"
   ]
  },
  {
   "cell_type": "markdown",
   "metadata": {},
   "source": [
    "**Practice points**\n",
    "- working with lists of shape (4,) and converting to numpy structures \n",
    "- when to use np.stack, np.reshape and np.ravel"
   ]
  },
  {
   "cell_type": "markdown",
   "metadata": {},
   "source": [
    "## Part 1"
   ]
  },
  {
   "cell_type": "markdown",
   "metadata": {},
   "source": [
    "Observations\n",
    "* Diagonals are odd\n",
    "* Can tell the layer by which pair of odd squares it is between \n",
    "* Diagonals are furthest distance \n",
    "* diff between layers always goes up by 8 "
   ]
  },
  {
   "cell_type": "markdown",
   "metadata": {},
   "source": [
    "Plan: Find min and upper bound by finding diagonal and parallel number, then count the difference from there."
   ]
  },
  {
   "cell_type": "code",
   "execution_count": 136,
   "metadata": {
    "collapsed": true
   },
   "outputs": [],
   "source": [
    "# Generate list of odd squares \n",
    "odd_squares = [i**2 for i in range(1, 999, 2)]\n",
    "\n",
    "# Check if the number is in odd_squares (quick win)\n",
    "if(number in odd_squares):\n",
    "    print(math.sqrt(number) - 1)\n",
    "    \n",
    "# Find which pair of numbers the odd square number is between \n",
    "higher_square_bound = [odd_squares[i+1] for i in range(len(odd_squares)-1) \n",
    "if odd_squares[i] < number  and odd_squares[i+1] > number ]\n",
    "\n",
    "# Calculate the four diagonals \n",
    "first_order_difference_start_values = [2,4,6,8]\n",
    "first_order_difference = np.array(\n",
    "    [list(range(start_val, 10002, 8))\n",
    "     for start_val in first_order_difference_start_values])\n",
    "diagonals = np.cumsum(first_order_difference, axis = 1)+1\n",
    "\n",
    "# Calculate the four straight lines \n",
    "first_order_difference_start_values = [1,3,5,7]\n",
    "first_order_difference = np.array(\n",
    "    [list(range(start_val, 10000, 8))\n",
    "     for start_val in first_order_difference_start_values])\n",
    "straight_lines = np.cumsum(first_order_difference, axis = 1)+1"
   ]
  },
  {
   "cell_type": "code",
   "execution_count": 240,
   "metadata": {
    "collapsed": true
   },
   "outputs": [],
   "source": [
    "# interleave the diagonals and straight lines\n",
    "together = np.array(\n",
    "    [straight_lines[int(i/2),:] if (i % 2 == 0) \n",
    "     else diagonals[int((i-1)/2),:]  \n",
    "     for i in range(8)])\n",
    "\n",
    "# Find the low and high bounds\n",
    "# find the closet number to number\n",
    "bound_index = np.argmin(abs(together - number))\n",
    "bound_1 = together.flatten()[bound_index]\n",
    "if (bound_1 >= number):\n",
    "    high_bound = bound_1\n",
    "    low_bound = together.flatten()[bound_index-1]\n",
    "else: \n",
    "    high_bound = together.flatten()[bound_index+1]\n",
    "    low_bound = bound_1\n",
    "bounds = np.array([low_bound, high_bound])"
   ]
  },
  {
   "cell_type": "code",
   "execution_count": 262,
   "metadata": {
    "collapsed": true
   },
   "outputs": [],
   "source": [
    "# Find the closer bound\n",
    "closer_number = bounds[np.argmin(abs(number - bounds))]\n",
    "# find if it is in diagonals or straight_lines \n",
    "in_diagonals = closer_number in diagonals\n",
    "if(in_diagonals):\n",
    "    # Find the layer it is in\n",
    "    layer = np.where(diagonals == closer_number)[1][0] + 1\n",
    "    # work out steps\n",
    "    steps = layer*2 - abs(number - closer_number) \n",
    "    # Take away the difference \n",
    "    \n",
    "else: \n",
    "    layer = np.where(straight_lines == closer_number)[1][0] + 1 \n",
    "    # work out steps\n",
    "    steps = layer + abs(number - closer_number) "
   ]
  },
  {
   "cell_type": "code",
   "execution_count": 263,
   "metadata": {},
   "outputs": [
    {
     "data": {
      "text/plain": [
       "475"
      ]
     },
     "execution_count": 263,
     "metadata": {},
     "output_type": "execute_result"
    }
   ],
   "source": [
    "steps"
   ]
  },
  {
   "cell_type": "markdown",
   "metadata": {
    "collapsed": true
   },
   "source": [
    "## Part 1 - the regular way"
   ]
  },
  {
   "cell_type": "code",
   "execution_count": 298,
   "metadata": {
    "collapsed": true
   },
   "outputs": [],
   "source": [
    "import math\n",
    "from IPython.core.debugger import set_trace"
   ]
  },
  {
   "cell_type": "code",
   "execution_count": 316,
   "metadata": {},
   "outputs": [],
   "source": [
    "side_length = 1001\n",
    "grid = np.zeros((side_length,side_length))\n",
    "midpoint = math.floor(side_length / 2)\n",
    "curr_x, curr_y = midpoint, midpoint\n",
    "grid[curr_x, curr_y] = 1\n",
    "n_spirals = midpoint + 1\n",
    "count = 1\n",
    "# Original spiral \n",
    "for i in range(1, n_spirals):\n",
    "    # Right\n",
    "    for j in range((i*2)-1):\n",
    "        curr_x += 1\n",
    "        grid[curr_x, curr_y] = count + 1\n",
    "        count += 1\n",
    "    # up\n",
    "    for j in range((i*2)-1): \n",
    "        curr_y += 1\n",
    "        grid[curr_x, curr_y] = count + 1\n",
    "        count += 1\n",
    "    # left \n",
    "    for j in range(i*2): \n",
    "        curr_x -= 1\n",
    "        grid[curr_x, curr_y] = count + 1\n",
    "        count += 1\n",
    "    # down\n",
    "    for j in range(i*2): \n",
    "        curr_y -= 1\n",
    "        grid[curr_x, curr_y] = count + 1\n",
    "        count += 1"
   ]
  },
  {
   "cell_type": "code",
   "execution_count": 317,
   "metadata": {},
   "outputs": [
    {
     "data": {
      "text/plain": [
       "array([[ 1001001.,  1001000.,  1000999., ...,  1000003.,  1000002.,\n",
       "         1000001.],\n",
       "       [       0.,   997003.,   997002., ...,   996006.,   996005.,\n",
       "         1000000.],\n",
       "       [       0.,   997004.,   993013., ...,   992017.,   996004.,\n",
       "          999999.],\n",
       "       ..., \n",
       "       [       0.,   998000.,   994009., ...,   991021.,   995008.,\n",
       "          999003.],\n",
       "       [       0.,   998001.,   994010., ...,   995006.,   995007.,\n",
       "          999002.],\n",
       "       [       0.,   998002.,   998003., ...,   998999.,   999000.,\n",
       "          999001.]])"
      ]
     },
     "execution_count": 317,
     "metadata": {},
     "output_type": "execute_result"
    }
   ],
   "source": [
    "grid"
   ]
  },
  {
   "cell_type": "code",
   "execution_count": 312,
   "metadata": {},
   "outputs": [
    {
     "data": {
      "text/plain": [
       "(array([712]), array([237]))"
      ]
     },
     "execution_count": 312,
     "metadata": {},
     "output_type": "execute_result"
    }
   ],
   "source": [
    "np.where(grid == number)"
   ]
  },
  {
   "cell_type": "code",
   "execution_count": 313,
   "metadata": {},
   "outputs": [
    {
     "data": {
      "text/plain": [
       "475"
      ]
     },
     "execution_count": 313,
     "metadata": {},
     "output_type": "execute_result"
    }
   ],
   "source": [
    "712 - 500 + (500 - 237)"
   ]
  },
  {
   "cell_type": "markdown",
   "metadata": {},
   "source": [
    "## Part 2 "
   ]
  },
  {
   "cell_type": "code",
   "execution_count": 348,
   "metadata": {
    "collapsed": true
   },
   "outputs": [],
   "source": [
    "side_length = 1001\n",
    "grid = np.zeros((side_length,side_length))\n",
    "midpoint = math.floor(side_length / 2)\n",
    "curr_x, curr_y = midpoint, midpoint\n",
    "grid[curr_x, curr_y] = 1\n",
    "n_spirals = midpoint + 1\n",
    "count = 1\n",
    "# Original spiral \n",
    "for i in range(1, n_spirals):\n",
    "    # Right\n",
    "    for j in range((i*2)-1):\n",
    "        curr_x += 1\n",
    "        grid[curr_x, curr_y] = np.sum(grid[(curr_x-1):(curr_x+2),\n",
    "                                           (curr_y-1):(curr_y+2)])\n",
    "    # up\n",
    "    for j in range((i*2)-1): \n",
    "        curr_y += 1\n",
    "        grid[curr_x, curr_y] = np.sum(grid[(curr_x-1):(curr_x+2),\n",
    "                                           (curr_y-1):(curr_y+2)])\n",
    "    # left \n",
    "    for j in range(i*2): \n",
    "        curr_x -= 1\n",
    "        grid[curr_x, curr_y] = np.sum(grid[(curr_x-1):(curr_x+2),\n",
    "                                           (curr_y-1):(curr_y+2)])\n",
    "    # down\n",
    "    for j in range(i*2): \n",
    "        curr_y -= 1\n",
    "        grid[curr_x, curr_y] = np.sum(grid[(curr_x-1):(curr_x+2),\n",
    "                                           (curr_y-1):(curr_y+2)])\n"
   ]
  },
  {
   "cell_type": "code",
   "execution_count": 349,
   "metadata": {},
   "outputs": [],
   "source": [
    "n1 = number\n",
    "x = np.where(grid == n1)\n",
    "while(len(x[0]) == 0 ):\n",
    "    n1 = n1 + 1 \n",
    "    x = np.where(grid == n1)  "
   ]
  },
  {
   "cell_type": "code",
   "execution_count": 350,
   "metadata": {},
   "outputs": [
    {
     "data": {
      "text/plain": [
       "279138"
      ]
     },
     "execution_count": 350,
     "metadata": {},
     "output_type": "execute_result"
    }
   ],
   "source": [
    "n1"
   ]
  },
  {
   "cell_type": "markdown",
   "metadata": {},
   "source": [
    "### Learning from other solutions "
   ]
  },
  {
   "cell_type": "markdown",
   "metadata": {},
   "source": [
    "I see this default dict come up a lot. Let's take a look at it. "
   ]
  },
  {
   "cell_type": "code",
   "execution_count": 351,
   "metadata": {
    "collapsed": true
   },
   "outputs": [],
   "source": [
    "from collections import defaultdict"
   ]
  },
  {
   "cell_type": "code",
   "execution_count": 358,
   "metadata": {},
   "outputs": [],
   "source": [
    "d1 = defaultdict(lambda: 'greetings')\n",
    "d2 = dict()"
   ]
  },
  {
   "cell_type": "code",
   "execution_count": 359,
   "metadata": {},
   "outputs": [],
   "source": [
    "d1['Tom'] = \"Hello\"\n",
    "d2['Tom'] = \"Hello\""
   ]
  },
  {
   "cell_type": "code",
   "execution_count": 363,
   "metadata": {},
   "outputs": [
    {
     "data": {
      "text/plain": [
       "'greetings'"
      ]
     },
     "execution_count": 363,
     "metadata": {},
     "output_type": "execute_result"
    }
   ],
   "source": [
    "d1['Casey']\n",
    "# d2['Casey']"
   ]
  },
  {
   "cell_type": "markdown",
   "metadata": {},
   "source": [
    "Dictionary with a default value. It also looks like just calling stuff with a key is enough to add it to the dict. Next step is to work out when we want to use dicts, and when we want to use lists. Let's copy our earlier data structure and simplify it. "
   ]
  },
  {
   "cell_type": "code",
   "execution_count": 405,
   "metadata": {
    "collapsed": true
   },
   "outputs": [],
   "source": [
    "class wire:\n",
    "    # variables shared by all members of the class go here \n",
    "    type = 'wire'\n",
    "    \n",
    "    # The function called when you make a new instance of the class \n",
    "    def __init__(self, name):\n",
    "        self.name = name\n",
    "        self.value = None\n",
    "    "
   ]
  },
  {
   "cell_type": "markdown",
   "metadata": {},
   "source": [
    "Question is - should we use a list, or a dict to hold the inputs? Before I was using tuples...but would a dict be easier?"
   ]
  },
  {
   "cell_type": "code",
   "execution_count": 419,
   "metadata": {
    "collapsed": true
   },
   "outputs": [],
   "source": [
    "# create\n",
    "a, b, c, d = wire('a'), wire('b'), wire('c'), wire('d')\n",
    "\n",
    "# tuple approach\n",
    "a.input = (b, 'NOT')\n",
    "b.input = ([a,c], 'AND')\n",
    "\n",
    "# dict approach. \n",
    "# No need for a defaultdict here. \n",
    "c.input = dict({'input': [b,d], \n",
    "                  'type': 'AND'})\n",
    "d.input = {'input': 199, 'type': 'ASSIGN'}"
   ]
  },
  {
   "cell_type": "code",
   "execution_count": 431,
   "metadata": {},
   "outputs": [
    {
     "data": {
      "text/plain": [
       "'ASSIGN'"
      ]
     },
     "execution_count": 431,
     "metadata": {},
     "output_type": "execute_result"
    }
   ],
   "source": [
    "# kind of confusing, you have to know what 0 and 1 are, or comment it. \n",
    "a.input[0], a.input[1]\n",
    "b.input[0][1]\n",
    "\n",
    "# I like the dict approach\n",
    "c.input['input']\n",
    "d.input['type']"
   ]
  },
  {
   "cell_type": "code",
   "execution_count": 437,
   "metadata": {},
   "outputs": [
    {
     "data": {
      "text/plain": [
       "['AND', 'ASSIGN']"
      ]
     },
     "execution_count": 437,
     "metadata": {},
     "output_type": "execute_result"
    }
   ],
   "source": [
    "# Searching through dicts \n",
    "tuple_list = [a,b]\n",
    "dict_list = [c,d]\n",
    "\n",
    "# These two are pretty similar. The dict one looks a little nicer. \n",
    "[item.input[1] for item in tuple_list]\n",
    "[item.input['type'] for item in dict_list]"
   ]
  },
  {
   "cell_type": "code",
   "execution_count": null,
   "metadata": {
    "collapsed": true
   },
   "outputs": [],
   "source": [
    "# You can't change a tuple "
   ]
  },
  {
   "cell_type": "code",
   "execution_count": 464,
   "metadata": {},
   "outputs": [],
   "source": [
    "a.input = ('a', 'v')"
   ]
  },
  {
   "cell_type": "code",
   "execution_count": 467,
   "metadata": {},
   "outputs": [
    {
     "ename": "TypeError",
     "evalue": "'tuple' object does not support item assignment",
     "output_type": "error",
     "traceback": [
      "\u001b[0;31m---------------------------------------------------------------------------\u001b[0m",
      "\u001b[0;31mTypeError\u001b[0m                                 Traceback (most recent call last)",
      "\u001b[0;32m<ipython-input-467-bcf7b4da087a>\u001b[0m in \u001b[0;36m<module>\u001b[0;34m()\u001b[0m\n\u001b[0;32m----> 1\u001b[0;31m \u001b[0ma\u001b[0m\u001b[0;34m.\u001b[0m\u001b[0minput\u001b[0m\u001b[0;34m[\u001b[0m\u001b[0;36m0\u001b[0m\u001b[0;34m]\u001b[0m \u001b[0;34m=\u001b[0m \u001b[0;34m'v'\u001b[0m\u001b[0;34m\u001b[0m\u001b[0m\n\u001b[0m",
      "\u001b[0;31mTypeError\u001b[0m: 'tuple' object does not support item assignment"
     ]
    }
   ],
   "source": [
    "a.input[0] = 'v'"
   ]
  },
  {
   "cell_type": "code",
   "execution_count": null,
   "metadata": {
    "collapsed": true
   },
   "outputs": [],
   "source": [
    "# can a set have key value?\n"
   ]
  },
  {
   "cell_type": "code",
   "execution_count": 470,
   "metadata": {
    "collapsed": true
   },
   "outputs": [],
   "source": [
    "q = {1,2,3,4}"
   ]
  },
  {
   "cell_type": "code",
   "execution_count": 476,
   "metadata": {
    "collapsed": true
   },
   "outputs": [],
   "source": [
    "q1 = set({'a': 1, 'v': 3})\n",
    "q2 = {'a': 1, 'v': 3}"
   ]
  },
  {
   "cell_type": "code",
   "execution_count": 477,
   "metadata": {},
   "outputs": [
    {
     "data": {
      "text/plain": [
       "{'a': 1, 'v': 3}"
      ]
     },
     "execution_count": 477,
     "metadata": {},
     "output_type": "execute_result"
    }
   ],
   "source": [
    "q2"
   ]
  },
  {
   "cell_type": "code",
   "execution_count": 478,
   "metadata": {},
   "outputs": [
    {
     "data": {
      "text/plain": [
       "{'a', 'v'}"
      ]
     },
     "execution_count": 478,
     "metadata": {},
     "output_type": "execute_result"
    }
   ],
   "source": [
    "set(q2)."
   ]
  },
  {
   "cell_type": "code",
   "execution_count": 487,
   "metadata": {},
   "outputs": [
    {
     "data": {
      "text/plain": [
       "['a', 'v']"
      ]
     },
     "execution_count": 487,
     "metadata": {},
     "output_type": "execute_result"
    }
   ],
   "source": [
    "list(q1)"
   ]
  },
  {
   "cell_type": "code",
   "execution_count": 488,
   "metadata": {},
   "outputs": [
    {
     "data": {
      "text/plain": [
       "{'a', 'v'}"
      ]
     },
     "execution_count": 488,
     "metadata": {},
     "output_type": "execute_result"
    }
   ],
   "source": [
    "frozenset()"
   ]
  },
  {
   "cell_type": "code",
   "execution_count": null,
   "metadata": {
    "collapsed": true
   },
   "outputs": [],
   "source": []
  }
 ],
 "metadata": {
  "kernelspec": {
   "display_name": "Python 3",
   "language": "python",
   "name": "python3"
  },
  "language_info": {
   "codemirror_mode": {
    "name": "ipython",
    "version": 3
   },
   "file_extension": ".py",
   "mimetype": "text/x-python",
   "name": "python",
   "nbconvert_exporter": "python",
   "pygments_lexer": "ipython3",
   "version": "3.6.1"
  }
 },
 "nbformat": 4,
 "nbformat_minor": 2
}
