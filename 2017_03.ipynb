{
 "cells": [
  {
   "cell_type": "code",
   "execution_count": 41,
   "metadata": {
    "collapsed": true,
    "scrolled": true
   },
   "outputs": [],
   "source": [
    "import math\n",
    "import numpy as np\n",
    "from itertools import accumulate\n",
    "number = 277678"
   ]
  },
  {
   "cell_type": "markdown",
   "metadata": {},
   "source": [
    "**Practice points**\n",
    "- working with lists of shape (4,) and converting to numpy structures \n",
    "- when to use np.stack, np.reshape and np.ravel"
   ]
  },
  {
   "cell_type": "markdown",
   "metadata": {},
   "source": [
    "## Part 1"
   ]
  },
  {
   "cell_type": "markdown",
   "metadata": {},
   "source": [
    "Observations\n",
    "* Diagonals are odd\n",
    "* Can tell the layer by which pair of odd squares it is between \n",
    "* Diagonals are furthest distance \n",
    "* diff between layers always goes up by 8 "
   ]
  },
  {
   "cell_type": "markdown",
   "metadata": {},
   "source": [
    "Plan: Find min and upper bound by finding diagonal and parallel number, then count the difference from there."
   ]
  },
  {
   "cell_type": "code",
   "execution_count": 136,
   "metadata": {},
   "outputs": [],
   "source": [
    "# Generate list of odd squares \n",
    "odd_squares = [i**2 for i in range(1, 999, 2)]\n",
    "\n",
    "# Check if the number is in odd_squares (quick win)\n",
    "if(number in odd_squares):\n",
    "    print(math.sqrt(number) - 1)\n",
    "    \n",
    "# Find which pair of numbers the odd square number is between \n",
    "higher_square_bound = [odd_squares[i+1] for i in range(len(odd_squares)-1) \n",
    "if odd_squares[i] < number  and odd_squares[i+1] > number ]\n",
    "\n",
    "# Calculate the four diagonals \n",
    "first_order_difference_start_values = [2,4,6,8]\n",
    "first_order_difference = np.array(\n",
    "    [list(range(start_val, 10002, 8))\n",
    "     for start_val in first_order_difference_start_values])\n",
    "diagonals = np.cumsum(first_order_difference, axis = 1)+1\n",
    "\n",
    "# Calculate the four straight lines \n",
    "first_order_difference_start_values = [1,3,5,7]\n",
    "first_order_difference = np.array(\n",
    "    [list(range(start_val, 10000, 8))\n",
    "     for start_val in first_order_difference_start_values])\n",
    "straight_lines = np.cumsum(first_order_difference, axis = 1)+1"
   ]
  },
  {
   "cell_type": "code",
   "execution_count": 240,
   "metadata": {},
   "outputs": [],
   "source": [
    "# interleave the diagonals and straight lines\n",
    "together = np.array(\n",
    "    [straight_lines[int(i/2),:] if (i % 2 == 0) \n",
    "     else diagonals[int((i-1)/2),:]  \n",
    "     for i in range(8)])\n",
    "\n",
    "# Find the low and high bounds\n",
    "# find the closet number to number\n",
    "bound_index = np.argmin(abs(together - number))\n",
    "bound_1 = together.flatten()[bound_index]\n",
    "if (bound_1 >= number):\n",
    "    high_bound = bound_1\n",
    "    low_bound = together.flatten()[bound_index-1]\n",
    "else: \n",
    "    high_bound = together.flatten()[bound_index+1]\n",
    "    low_bound = bound_1\n",
    "bounds = np.array([low_bound, high_bound])"
   ]
  },
  {
   "cell_type": "code",
   "execution_count": 262,
   "metadata": {},
   "outputs": [],
   "source": [
    "# Find the closer bound\n",
    "closer_number = bounds[np.argmin(abs(number - bounds))]\n",
    "# find if it is in diagonals or straight_lines \n",
    "in_diagonals = closer_number in diagonals\n",
    "if(in_diagonals):\n",
    "    # Find the layer it is in\n",
    "    layer = np.where(diagonals == closer_number)[1][0] + 1\n",
    "    # work out steps\n",
    "    steps = layer*2 - abs(number - closer_number) \n",
    "    # Take away the difference \n",
    "    \n",
    "else: \n",
    "    layer = np.where(straight_lines == closer_number)[1][0] + 1 \n",
    "    # work out steps\n",
    "    steps = layer + abs(number - closer_number) "
   ]
  },
  {
   "cell_type": "code",
   "execution_count": 263,
   "metadata": {},
   "outputs": [
    {
     "data": {
      "text/plain": [
       "475"
      ]
     },
     "execution_count": 263,
     "metadata": {},
     "output_type": "execute_result"
    }
   ],
   "source": [
    "steps"
   ]
  },
  {
   "cell_type": "code",
   "execution_count": null,
   "metadata": {
    "collapsed": true
   },
   "outputs": [],
   "source": []
  }
 ],
 "metadata": {
  "kernelspec": {
   "display_name": "Python 3",
   "language": "python",
   "name": "python3"
  },
  "language_info": {
   "codemirror_mode": {
    "name": "ipython",
    "version": 3
   },
   "file_extension": ".py",
   "mimetype": "text/x-python",
   "name": "python",
   "nbconvert_exporter": "python",
   "pygments_lexer": "ipython3",
   "version": "3.6.1"
  }
 },
 "nbformat": 4,
 "nbformat_minor": 2
}
